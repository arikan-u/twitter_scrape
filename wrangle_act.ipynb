{
 "cells": [
  {
   "cell_type": "code",
   "execution_count": 1,
   "id": "59a60729",
   "metadata": {},
   "outputs": [],
   "source": [
    "#import libraries\n",
    "import pandas as pd\n",
    "import numpy as np\n",
    "import requests as rq\n",
    "import matplotlib.pyplot as plt"
   ]
  },
  {
   "cell_type": "markdown",
   "id": "cfffd416",
   "metadata": {},
   "source": [
    "###### versions in this project\n",
    "Pandas Version - '1.4.3'\n",
    "\n",
    "Seaborn version - '0.11.2'\n",
    "\n",
    "Numpy Version - '1.21.5'"
   ]
  },
  {
   "cell_type": "code",
   "execution_count": 2,
   "id": "c481a446",
   "metadata": {},
   "outputs": [],
   "source": [
    "# read files here\n",
    "df_archive = pd.read_csv('twitter-archive-enhanced.csv')"
   ]
  },
  {
   "cell_type": "markdown",
   "id": "aa5f5a66",
   "metadata": {},
   "source": [
    "2. Use the requests library to download the tweet image prediction (image_predictions.tsv)"
   ]
  },
  {
   "cell_type": "code",
   "execution_count": 3,
   "id": "a4b72752",
   "metadata": {},
   "outputs": [],
   "source": [
    "url = 'https://d17h27t6h515a5.cloudfront.net/topher/2017/August/599fd2ad_image-predictions/image-predictions.tsv'\n",
    "\n",
    "with open('image-predictions.tsv', mode = 'wb') as file:\n",
    "    response = rq.get(url)\n",
    "    file.write(response.content)\n",
    "df_image = pd.read_csv('image-predictions.tsv', sep = '\\t')"
   ]
  },
  {
   "cell_type": "markdown",
   "id": "d1111438",
   "metadata": {},
   "source": [
    "3. Use the Tweept library to query additional data via the Twitter API (tweet_json.txt)"
   ]
  },
  {
   "cell_type": "code",
   "execution_count": 4,
   "id": "e4bf8d8d",
   "metadata": {},
   "outputs": [],
   "source": [
    "#  import tweepy\n",
    "# from tweepy import OAuthHandler\n",
    "# import json\n",
    "# from timeit import default_timer as timer\n",
    "\n",
    "# # Query Twitter API for each tweet in the Twitter archive and save JSON in a text file\n",
    "# # These are hidden to comply with Twitter's API terms and conditions\n",
    "# consumer_key = 'HIDDEN'\n",
    "# consumer_secret = 'HIDDEN'\n",
    "# access_token = 'HIDDEN'\n",
    "# access_secret = 'HIDDEN'\n",
    "# #\n",
    "# auth = OAuthHandler(consumer_key, consumer_secret)\n",
    "# auth.set_access_token(access_token, access_secret)\n",
    "\n",
    "# api = tweepy.API(auth, wait_on_rate_limit=True, wait_on_rate_limit_notify=True)\n",
    "\n",
    "# # NOTE TO REVIEWER: this student had mobile verification issues so the following\n",
    "# # Twitter API code was sent to this student from a Udacity instructor\n",
    "# # Tweet IDs for which to gather additional data via Twitter's API\n",
    "\n",
    "# tweet_ids = df_archive.tweet_id.values\n",
    "# len(tweet_ids)\n",
    "\n",
    "# # Query Twitter's API for JSON data for each tweet ID in the Twitter archive\n",
    "# count = 0\n",
    "# fails_dict = {}\n",
    "# start = timer()\n",
    "# # Save each tweet's returned JSON as a new line in a .txt file\n",
    "# with open('tweet_json.txt', 'w') as outfile:\n",
    "#     # This loop will likely take 20-30 minutes to run because of Twitter's rate limit\n",
    "#     for tweet_id in tweet_ids:\n",
    "#         count += 1\n",
    "#         print(str(count) + \": \" + str(tweet_id))\n",
    "#         try:\n",
    "#             tweet = api.get_status(tweet_id, tweet_mode='extended')\n",
    "#             print(\"Success\")\n",
    "#             json.dump(tweet._json, outfile)\n",
    "#             outfile.write('\\n')\n",
    "#         except tweepy.TweepError as e:\n",
    "#             print(\"Failed\")\n",
    "#             fails_dict[tweet_id] = e\n",
    "#             pass\n",
    "# end = timer()\n",
    "# print(end - start)\n",
    "# print(fails_dict)"
   ]
  },
  {
   "cell_type": "code",
   "execution_count": 5,
   "id": "1141a755",
   "metadata": {},
   "outputs": [],
   "source": [
    "df_twitter = pd.read_json('tweet_json.txt', lines=True)"
   ]
  },
  {
   "cell_type": "markdown",
   "id": "d51f05c3",
   "metadata": {},
   "source": [
    "Drop Columns from each Dataframe"
   ]
  },
  {
   "cell_type": "code",
   "execution_count": 6,
   "id": "76778e87",
   "metadata": {},
   "outputs": [],
   "source": [
    "new_df_twitter = df_twitter.drop(columns = ['id_str','contributors', 'coordinates', 'display_text_range', 'entities',\n",
    "                                            'extended_entities', 'favorited', 'full_text', 'geo', 'in_reply_to_screen_name',\n",
    "                                            'in_reply_to_status_id', 'in_reply_to_status_id_str', 'in_reply_to_status_id',\n",
    "                                            'in_reply_to_user_id','in_reply_to_user_id_str','is_quote_status','lang','place','possibly_sensitive',\n",
    "                         'possibly_sensitive_appealable','quoted_status','quoted_status_id',\n",
    "                         'quoted_status_id_str','source','user','truncated', 'retweeted', 'retweeted_status'], axis=1)"
   ]
  },
  {
   "cell_type": "code",
   "execution_count": 7,
   "id": "eb3cfc51",
   "metadata": {},
   "outputs": [
    {
     "data": {
      "text/html": [
       "<div>\n",
       "<style scoped>\n",
       "    .dataframe tbody tr th:only-of-type {\n",
       "        vertical-align: middle;\n",
       "    }\n",
       "\n",
       "    .dataframe tbody tr th {\n",
       "        vertical-align: top;\n",
       "    }\n",
       "\n",
       "    .dataframe thead th {\n",
       "        text-align: right;\n",
       "    }\n",
       "</style>\n",
       "<table border=\"1\" class=\"dataframe\">\n",
       "  <thead>\n",
       "    <tr style=\"text-align: right;\">\n",
       "      <th></th>\n",
       "      <th>created_at</th>\n",
       "      <th>id</th>\n",
       "      <th>retweet_count</th>\n",
       "      <th>favorite_count</th>\n",
       "    </tr>\n",
       "  </thead>\n",
       "  <tbody>\n",
       "    <tr>\n",
       "      <th>0</th>\n",
       "      <td>2017-08-01 16:23:56+00:00</td>\n",
       "      <td>892420643555336193</td>\n",
       "      <td>8853</td>\n",
       "      <td>39467</td>\n",
       "    </tr>\n",
       "    <tr>\n",
       "      <th>1</th>\n",
       "      <td>2017-08-01 00:17:27+00:00</td>\n",
       "      <td>892177421306343426</td>\n",
       "      <td>6514</td>\n",
       "      <td>33819</td>\n",
       "    </tr>\n",
       "  </tbody>\n",
       "</table>\n",
       "</div>"
      ],
      "text/plain": [
       "                 created_at                  id  retweet_count  favorite_count\n",
       "0 2017-08-01 16:23:56+00:00  892420643555336193           8853           39467\n",
       "1 2017-08-01 00:17:27+00:00  892177421306343426           6514           33819"
      ]
     },
     "execution_count": 7,
     "metadata": {},
     "output_type": "execute_result"
    }
   ],
   "source": [
    "new_df_twitter.head(2)"
   ]
  },
  {
   "cell_type": "code",
   "execution_count": 8,
   "id": "aa8eb01c",
   "metadata": {},
   "outputs": [],
   "source": [
    "new_df_archive = df_archive.drop(columns=['in_reply_to_status_id','in_reply_to_user_id','source','text',\n",
    "                                       'retweeted_status_id','retweeted_status_user_id','retweeted_status_timestamp',\n",
    "                                       'expanded_urls'], axis=1)"
   ]
  },
  {
   "cell_type": "code",
   "execution_count": 9,
   "id": "63b46870",
   "metadata": {},
   "outputs": [
    {
     "data": {
      "text/html": [
       "<div>\n",
       "<style scoped>\n",
       "    .dataframe tbody tr th:only-of-type {\n",
       "        vertical-align: middle;\n",
       "    }\n",
       "\n",
       "    .dataframe tbody tr th {\n",
       "        vertical-align: top;\n",
       "    }\n",
       "\n",
       "    .dataframe thead th {\n",
       "        text-align: right;\n",
       "    }\n",
       "</style>\n",
       "<table border=\"1\" class=\"dataframe\">\n",
       "  <thead>\n",
       "    <tr style=\"text-align: right;\">\n",
       "      <th></th>\n",
       "      <th>tweet_id</th>\n",
       "      <th>timestamp</th>\n",
       "      <th>rating_numerator</th>\n",
       "      <th>rating_denominator</th>\n",
       "      <th>name</th>\n",
       "      <th>doggo</th>\n",
       "      <th>floofer</th>\n",
       "      <th>pupper</th>\n",
       "      <th>puppo</th>\n",
       "    </tr>\n",
       "  </thead>\n",
       "  <tbody>\n",
       "    <tr>\n",
       "      <th>0</th>\n",
       "      <td>892420643555336193</td>\n",
       "      <td>2017-08-01 16:23:56 +0000</td>\n",
       "      <td>13</td>\n",
       "      <td>10</td>\n",
       "      <td>Phineas</td>\n",
       "      <td>None</td>\n",
       "      <td>None</td>\n",
       "      <td>None</td>\n",
       "      <td>None</td>\n",
       "    </tr>\n",
       "    <tr>\n",
       "      <th>1</th>\n",
       "      <td>892177421306343426</td>\n",
       "      <td>2017-08-01 00:17:27 +0000</td>\n",
       "      <td>13</td>\n",
       "      <td>10</td>\n",
       "      <td>Tilly</td>\n",
       "      <td>None</td>\n",
       "      <td>None</td>\n",
       "      <td>None</td>\n",
       "      <td>None</td>\n",
       "    </tr>\n",
       "  </tbody>\n",
       "</table>\n",
       "</div>"
      ],
      "text/plain": [
       "             tweet_id                  timestamp  rating_numerator  \\\n",
       "0  892420643555336193  2017-08-01 16:23:56 +0000                13   \n",
       "1  892177421306343426  2017-08-01 00:17:27 +0000                13   \n",
       "\n",
       "   rating_denominator     name doggo floofer pupper puppo  \n",
       "0                  10  Phineas  None    None   None  None  \n",
       "1                  10    Tilly  None    None   None  None  "
      ]
     },
     "execution_count": 9,
     "metadata": {},
     "output_type": "execute_result"
    }
   ],
   "source": [
    "new_df_archive.head(2)"
   ]
  },
  {
   "cell_type": "code",
   "execution_count": 10,
   "id": "41ca4701",
   "metadata": {},
   "outputs": [],
   "source": [
    "new_df_image = df_image.drop(columns=['jpg_url', 'p1_conf', 'p2', 'p2_conf', 'p2_dog', 'p3', 'p3_conf', 'p3_dog'], axis=1)"
   ]
  },
  {
   "cell_type": "code",
   "execution_count": 11,
   "id": "fbc18492",
   "metadata": {},
   "outputs": [
    {
     "data": {
      "text/html": [
       "<div>\n",
       "<style scoped>\n",
       "    .dataframe tbody tr th:only-of-type {\n",
       "        vertical-align: middle;\n",
       "    }\n",
       "\n",
       "    .dataframe tbody tr th {\n",
       "        vertical-align: top;\n",
       "    }\n",
       "\n",
       "    .dataframe thead th {\n",
       "        text-align: right;\n",
       "    }\n",
       "</style>\n",
       "<table border=\"1\" class=\"dataframe\">\n",
       "  <thead>\n",
       "    <tr style=\"text-align: right;\">\n",
       "      <th></th>\n",
       "      <th>tweet_id</th>\n",
       "      <th>img_num</th>\n",
       "      <th>p1</th>\n",
       "      <th>p1_dog</th>\n",
       "    </tr>\n",
       "  </thead>\n",
       "  <tbody>\n",
       "    <tr>\n",
       "      <th>0</th>\n",
       "      <td>666020888022790149</td>\n",
       "      <td>1</td>\n",
       "      <td>Welsh_springer_spaniel</td>\n",
       "      <td>True</td>\n",
       "    </tr>\n",
       "    <tr>\n",
       "      <th>1</th>\n",
       "      <td>666029285002620928</td>\n",
       "      <td>1</td>\n",
       "      <td>redbone</td>\n",
       "      <td>True</td>\n",
       "    </tr>\n",
       "  </tbody>\n",
       "</table>\n",
       "</div>"
      ],
      "text/plain": [
       "             tweet_id  img_num                      p1  p1_dog\n",
       "0  666020888022790149        1  Welsh_springer_spaniel    True\n",
       "1  666029285002620928        1                 redbone    True"
      ]
     },
     "execution_count": 11,
     "metadata": {},
     "output_type": "execute_result"
    }
   ],
   "source": [
    "new_df_image.head(2)"
   ]
  },
  {
   "cell_type": "markdown",
   "id": "c4411e28",
   "metadata": {},
   "source": [
    "## Assessing Data"
   ]
  },
  {
   "cell_type": "markdown",
   "id": "2509ce4e",
   "metadata": {},
   "source": [
    "#### Twitter Archive Table"
   ]
  },
  {
   "cell_type": "markdown",
   "id": "dc1ca92c",
   "metadata": {},
   "source": [
    "Check for null values in each dataframe"
   ]
  },
  {
   "cell_type": "code",
   "execution_count": 12,
   "id": "863d653d",
   "metadata": {},
   "outputs": [
    {
     "name": "stdout",
     "output_type": "stream",
     "text": [
      "<class 'pandas.core.frame.DataFrame'>\n",
      "RangeIndex: 2354 entries, 0 to 2353\n",
      "Data columns (total 4 columns):\n",
      " #   Column          Non-Null Count  Dtype              \n",
      "---  ------          --------------  -----              \n",
      " 0   created_at      2354 non-null   datetime64[ns, UTC]\n",
      " 1   id              2354 non-null   int64              \n",
      " 2   retweet_count   2354 non-null   int64              \n",
      " 3   favorite_count  2354 non-null   int64              \n",
      "dtypes: datetime64[ns, UTC](1), int64(3)\n",
      "memory usage: 73.7 KB\n"
     ]
    }
   ],
   "source": [
    "new_df_twitter.info()"
   ]
  },
  {
   "cell_type": "code",
   "execution_count": 13,
   "id": "b04355a9",
   "metadata": {},
   "outputs": [
    {
     "data": {
      "text/html": [
       "<div>\n",
       "<style scoped>\n",
       "    .dataframe tbody tr th:only-of-type {\n",
       "        vertical-align: middle;\n",
       "    }\n",
       "\n",
       "    .dataframe tbody tr th {\n",
       "        vertical-align: top;\n",
       "    }\n",
       "\n",
       "    .dataframe thead th {\n",
       "        text-align: right;\n",
       "    }\n",
       "</style>\n",
       "<table border=\"1\" class=\"dataframe\">\n",
       "  <thead>\n",
       "    <tr style=\"text-align: right;\">\n",
       "      <th></th>\n",
       "      <th>created_at</th>\n",
       "      <th>id</th>\n",
       "      <th>retweet_count</th>\n",
       "      <th>favorite_count</th>\n",
       "    </tr>\n",
       "  </thead>\n",
       "  <tbody>\n",
       "    <tr>\n",
       "      <th>0</th>\n",
       "      <td>2017-08-01 16:23:56+00:00</td>\n",
       "      <td>892420643555336193</td>\n",
       "      <td>8853</td>\n",
       "      <td>39467</td>\n",
       "    </tr>\n",
       "  </tbody>\n",
       "</table>\n",
       "</div>"
      ],
      "text/plain": [
       "                 created_at                  id  retweet_count  favorite_count\n",
       "0 2017-08-01 16:23:56+00:00  892420643555336193           8853           39467"
      ]
     },
     "execution_count": 13,
     "metadata": {},
     "output_type": "execute_result"
    }
   ],
   "source": [
    "new_df_twitter.head(1)"
   ]
  },
  {
   "cell_type": "code",
   "execution_count": 14,
   "id": "bbc8157c",
   "metadata": {},
   "outputs": [
    {
     "name": "stdout",
     "output_type": "stream",
     "text": [
      "<class 'pandas.core.frame.DataFrame'>\n",
      "RangeIndex: 2356 entries, 0 to 2355\n",
      "Data columns (total 9 columns):\n",
      " #   Column              Non-Null Count  Dtype \n",
      "---  ------              --------------  ----- \n",
      " 0   tweet_id            2356 non-null   int64 \n",
      " 1   timestamp           2356 non-null   object\n",
      " 2   rating_numerator    2356 non-null   int64 \n",
      " 3   rating_denominator  2356 non-null   int64 \n",
      " 4   name                2356 non-null   object\n",
      " 5   doggo               2356 non-null   object\n",
      " 6   floofer             2356 non-null   object\n",
      " 7   pupper              2356 non-null   object\n",
      " 8   puppo               2356 non-null   object\n",
      "dtypes: int64(3), object(6)\n",
      "memory usage: 165.8+ KB\n"
     ]
    }
   ],
   "source": [
    "new_df_archive.info()"
   ]
  },
  {
   "cell_type": "code",
   "execution_count": 15,
   "id": "fb6fd2de",
   "metadata": {},
   "outputs": [
    {
     "data": {
      "text/html": [
       "<div>\n",
       "<style scoped>\n",
       "    .dataframe tbody tr th:only-of-type {\n",
       "        vertical-align: middle;\n",
       "    }\n",
       "\n",
       "    .dataframe tbody tr th {\n",
       "        vertical-align: top;\n",
       "    }\n",
       "\n",
       "    .dataframe thead th {\n",
       "        text-align: right;\n",
       "    }\n",
       "</style>\n",
       "<table border=\"1\" class=\"dataframe\">\n",
       "  <thead>\n",
       "    <tr style=\"text-align: right;\">\n",
       "      <th></th>\n",
       "      <th>tweet_id</th>\n",
       "      <th>timestamp</th>\n",
       "      <th>rating_numerator</th>\n",
       "      <th>rating_denominator</th>\n",
       "      <th>name</th>\n",
       "      <th>doggo</th>\n",
       "      <th>floofer</th>\n",
       "      <th>pupper</th>\n",
       "      <th>puppo</th>\n",
       "    </tr>\n",
       "  </thead>\n",
       "  <tbody>\n",
       "    <tr>\n",
       "      <th>0</th>\n",
       "      <td>892420643555336193</td>\n",
       "      <td>2017-08-01 16:23:56 +0000</td>\n",
       "      <td>13</td>\n",
       "      <td>10</td>\n",
       "      <td>Phineas</td>\n",
       "      <td>None</td>\n",
       "      <td>None</td>\n",
       "      <td>None</td>\n",
       "      <td>None</td>\n",
       "    </tr>\n",
       "    <tr>\n",
       "      <th>1</th>\n",
       "      <td>892177421306343426</td>\n",
       "      <td>2017-08-01 00:17:27 +0000</td>\n",
       "      <td>13</td>\n",
       "      <td>10</td>\n",
       "      <td>Tilly</td>\n",
       "      <td>None</td>\n",
       "      <td>None</td>\n",
       "      <td>None</td>\n",
       "      <td>None</td>\n",
       "    </tr>\n",
       "  </tbody>\n",
       "</table>\n",
       "</div>"
      ],
      "text/plain": [
       "             tweet_id                  timestamp  rating_numerator  \\\n",
       "0  892420643555336193  2017-08-01 16:23:56 +0000                13   \n",
       "1  892177421306343426  2017-08-01 00:17:27 +0000                13   \n",
       "\n",
       "   rating_denominator     name doggo floofer pupper puppo  \n",
       "0                  10  Phineas  None    None   None  None  \n",
       "1                  10    Tilly  None    None   None  None  "
      ]
     },
     "execution_count": 15,
     "metadata": {},
     "output_type": "execute_result"
    }
   ],
   "source": [
    "new_df_archive.head(2)"
   ]
  },
  {
   "cell_type": "code",
   "execution_count": 16,
   "id": "3d7f2641",
   "metadata": {},
   "outputs": [
    {
     "data": {
      "text/plain": [
       "array([  13,   12,   14,    5,   17,   11,   10,  420,  666,    6,   15,\n",
       "        182,  960,    0,   75,    7,   84,    9,   24,    8,    1,   27,\n",
       "          3,    4,  165, 1776,  204,   50,   99,   80,   45,   60,   44,\n",
       "        143,  121,   20,   26,    2,  144,   88], dtype=int64)"
      ]
     },
     "execution_count": 16,
     "metadata": {},
     "output_type": "execute_result"
    }
   ],
   "source": [
    "#check for unique values in the rating_numerator column\n",
    "new_df_archive.rating_numerator.unique()"
   ]
  },
  {
   "cell_type": "code",
   "execution_count": 17,
   "id": "75152eb4",
   "metadata": {},
   "outputs": [
    {
     "data": {
      "text/plain": [
       "array([ 10,   0,  15,  70,   7,  11, 150, 170,  20,  50,  90,  80,  40,\n",
       "       130, 110,  16, 120,   2], dtype=int64)"
      ]
     },
     "execution_count": 17,
     "metadata": {},
     "output_type": "execute_result"
    }
   ],
   "source": [
    "#check for unique values in the ratin_denominator column\n",
    "new_df_archive.rating_denominator.unique()"
   ]
  },
  {
   "cell_type": "code",
   "execution_count": 18,
   "id": "790f0470",
   "metadata": {},
   "outputs": [
    {
     "data": {
      "text/plain": [
       "None     2259\n",
       "doggo      97\n",
       "Name: doggo, dtype: int64"
      ]
     },
     "execution_count": 18,
     "metadata": {},
     "output_type": "execute_result"
    }
   ],
   "source": [
    "#check the value counts of doggo\n",
    "new_df_archive.doggo.value_counts()"
   ]
  },
  {
   "cell_type": "code",
   "execution_count": 19,
   "id": "cc81da71",
   "metadata": {},
   "outputs": [
    {
     "data": {
      "text/plain": [
       "None       2346\n",
       "floofer      10\n",
       "Name: floofer, dtype: int64"
      ]
     },
     "execution_count": 19,
     "metadata": {},
     "output_type": "execute_result"
    }
   ],
   "source": [
    "#check the value counts of floofer\n",
    "new_df_archive.floofer.value_counts()"
   ]
  },
  {
   "cell_type": "code",
   "execution_count": 20,
   "id": "c6eef774",
   "metadata": {},
   "outputs": [
    {
     "data": {
      "text/plain": [
       "None      2099\n",
       "pupper     257\n",
       "Name: pupper, dtype: int64"
      ]
     },
     "execution_count": 20,
     "metadata": {},
     "output_type": "execute_result"
    }
   ],
   "source": [
    "#check the value counts of pupper\n",
    "new_df_archive.pupper.value_counts()"
   ]
  },
  {
   "cell_type": "code",
   "execution_count": 21,
   "id": "25ef7ad0",
   "metadata": {},
   "outputs": [
    {
     "data": {
      "text/plain": [
       "None     2326\n",
       "puppo      30\n",
       "Name: puppo, dtype: int64"
      ]
     },
     "execution_count": 21,
     "metadata": {},
     "output_type": "execute_result"
    }
   ],
   "source": [
    "#check the value counts of puppo\n",
    "new_df_archive.puppo.value_counts()"
   ]
  },
  {
   "cell_type": "code",
   "execution_count": 22,
   "id": "c9be1138",
   "metadata": {},
   "outputs": [
    {
     "name": "stdout",
     "output_type": "stream",
     "text": [
      "<class 'pandas.core.frame.DataFrame'>\n",
      "RangeIndex: 2075 entries, 0 to 2074\n",
      "Data columns (total 4 columns):\n",
      " #   Column    Non-Null Count  Dtype \n",
      "---  ------    --------------  ----- \n",
      " 0   tweet_id  2075 non-null   int64 \n",
      " 1   img_num   2075 non-null   int64 \n",
      " 2   p1        2075 non-null   object\n",
      " 3   p1_dog    2075 non-null   bool  \n",
      "dtypes: bool(1), int64(2), object(1)\n",
      "memory usage: 50.8+ KB\n"
     ]
    }
   ],
   "source": [
    "new_df_image.info()"
   ]
  },
  {
   "cell_type": "code",
   "execution_count": 23,
   "id": "13bafdfa",
   "metadata": {},
   "outputs": [
    {
     "data": {
      "text/html": [
       "<div>\n",
       "<style scoped>\n",
       "    .dataframe tbody tr th:only-of-type {\n",
       "        vertical-align: middle;\n",
       "    }\n",
       "\n",
       "    .dataframe tbody tr th {\n",
       "        vertical-align: top;\n",
       "    }\n",
       "\n",
       "    .dataframe thead th {\n",
       "        text-align: right;\n",
       "    }\n",
       "</style>\n",
       "<table border=\"1\" class=\"dataframe\">\n",
       "  <thead>\n",
       "    <tr style=\"text-align: right;\">\n",
       "      <th></th>\n",
       "      <th>tweet_id</th>\n",
       "      <th>img_num</th>\n",
       "      <th>p1</th>\n",
       "      <th>p1_dog</th>\n",
       "    </tr>\n",
       "  </thead>\n",
       "  <tbody>\n",
       "    <tr>\n",
       "      <th>0</th>\n",
       "      <td>666020888022790149</td>\n",
       "      <td>1</td>\n",
       "      <td>Welsh_springer_spaniel</td>\n",
       "      <td>True</td>\n",
       "    </tr>\n",
       "    <tr>\n",
       "      <th>1</th>\n",
       "      <td>666029285002620928</td>\n",
       "      <td>1</td>\n",
       "      <td>redbone</td>\n",
       "      <td>True</td>\n",
       "    </tr>\n",
       "  </tbody>\n",
       "</table>\n",
       "</div>"
      ],
      "text/plain": [
       "             tweet_id  img_num                      p1  p1_dog\n",
       "0  666020888022790149        1  Welsh_springer_spaniel    True\n",
       "1  666029285002620928        1                 redbone    True"
      ]
     },
     "execution_count": 23,
     "metadata": {},
     "output_type": "execute_result"
    }
   ],
   "source": [
    "new_df_image.head(2)"
   ]
  },
  {
   "cell_type": "markdown",
   "id": "a1b7b3fc",
   "metadata": {},
   "source": [
    "#### Check that there are no tweets created after August 1, 2017"
   ]
  },
  {
   "cell_type": "code",
   "execution_count": 24,
   "id": "ea69ca87",
   "metadata": {},
   "outputs": [
    {
     "data": {
      "text/plain": [
       "Timestamp('2017-08-01 16:23:56+0000', tz='UTC')"
      ]
     },
     "execution_count": 24,
     "metadata": {},
     "output_type": "execute_result"
    }
   ],
   "source": [
    "max_created_at = new_df_twitter.created_at\n",
    "max_created_at.max()"
   ]
  },
  {
   "cell_type": "code",
   "execution_count": 25,
   "id": "d5dacf1c",
   "metadata": {},
   "outputs": [
    {
     "data": {
      "text/plain": [
       "'2017-08-01 16:23:56 +0000'"
      ]
     },
     "execution_count": 25,
     "metadata": {},
     "output_type": "execute_result"
    }
   ],
   "source": [
    "max_timestamp = new_df_archive.timestamp\n",
    "max_timestamp.max()"
   ]
  },
  {
   "cell_type": "code",
   "execution_count": 26,
   "id": "2bd420a4",
   "metadata": {},
   "outputs": [
    {
     "data": {
      "text/plain": [
       "None          745\n",
       "a              55\n",
       "Charlie        12\n",
       "Cooper         11\n",
       "Lucy           11\n",
       "             ... \n",
       "Dex             1\n",
       "Ace             1\n",
       "Tayzie          1\n",
       "Grizzie         1\n",
       "Christoper      1\n",
       "Name: name, Length: 957, dtype: int64"
      ]
     },
     "execution_count": 26,
     "metadata": {},
     "output_type": "execute_result"
    }
   ],
   "source": [
    "new_df_archive.name.value_counts()"
   ]
  },
  {
   "cell_type": "code",
   "execution_count": 27,
   "id": "8454fadb",
   "metadata": {},
   "outputs": [],
   "source": [
    "new_df_twitter.rename(columns={'id':'tweet_id'}, inplace=True)"
   ]
  },
  {
   "cell_type": "code",
   "execution_count": null,
   "id": "302feacd",
   "metadata": {},
   "outputs": [],
   "source": [
    "copy_df_image.rename(columns={'p1':'dog_breed'}, inplace=True)"
   ]
  },
  {
   "cell_type": "markdown",
   "id": "a5c7c7fa",
   "metadata": {},
   "source": [
    "### Quality Issues\n",
    "`new_df_twitter`\n",
    "- convert created_at column from datetime to date\n",
    "- tweet_id to object\n",
    "- favorite_count to int\n",
    "- retweet_count to int\n",
    "\n",
    "`new_df_archive`\n",
    "- convert timestamp column to date\n",
    "- rating_numerator column has numbers outside the unique rating system\n",
    "- rating_denominator column has numbers outside the unique rating system\n",
    "- change rating numerator to int\n",
    "- tweet_id to object\n",
    "\n",
    "\n",
    "`new_df_image`\n",
    "- tweet_id to object\n",
    "- replace '_' in p1 column with ' '\n"
   ]
  },
  {
   "cell_type": "markdown",
   "id": "0fd192df",
   "metadata": {},
   "source": [
    "### Tidiness Issues"
   ]
  },
  {
   "cell_type": "markdown",
   "id": "79b98b5a",
   "metadata": {},
   "source": [
    "`new_df_archive`\n",
    "- merge doggo, floofer, pupper, puppo to form new columns\n",
    "- `new_df_twitter`, `new_df_archive` and `new_df_image` tables to master table"
   ]
  },
  {
   "cell_type": "markdown",
   "id": "6c8a5520",
   "metadata": {},
   "source": [
    "## Cleaning Data"
   ]
  },
  {
   "cell_type": "markdown",
   "id": "e31c7496",
   "metadata": {},
   "source": [
    "### Quality Issues"
   ]
  },
  {
   "cell_type": "code",
   "execution_count": 28,
   "id": "edcbdc15",
   "metadata": {},
   "outputs": [],
   "source": [
    "# create copies of the dataframees\n",
    "copy_df_twitter = new_df_twitter.copy()\n",
    "copy_df_archive = new_df_archive.copy()\n",
    "copy_df_image = new_df_image.copy()"
   ]
  },
  {
   "cell_type": "markdown",
   "id": "badf59d7",
   "metadata": {},
   "source": [
    "#### Issue 1: Convert created_at column from datetime to date"
   ]
  },
  {
   "cell_type": "markdown",
   "id": "0343e9f2",
   "metadata": {},
   "source": [
    "##### Code"
   ]
  },
  {
   "cell_type": "code",
   "execution_count": 29,
   "id": "345a2a18",
   "metadata": {},
   "outputs": [],
   "source": [
    "copy_df_twitter['created_at'] = pd.to_datetime(copy_df_twitter['created_at']).dt.date"
   ]
  },
  {
   "cell_type": "markdown",
   "id": "904b348c",
   "metadata": {},
   "source": [
    "##### Test"
   ]
  },
  {
   "cell_type": "code",
   "execution_count": 30,
   "id": "c96e86b6",
   "metadata": {},
   "outputs": [
    {
     "data": {
      "text/html": [
       "<div>\n",
       "<style scoped>\n",
       "    .dataframe tbody tr th:only-of-type {\n",
       "        vertical-align: middle;\n",
       "    }\n",
       "\n",
       "    .dataframe tbody tr th {\n",
       "        vertical-align: top;\n",
       "    }\n",
       "\n",
       "    .dataframe thead th {\n",
       "        text-align: right;\n",
       "    }\n",
       "</style>\n",
       "<table border=\"1\" class=\"dataframe\">\n",
       "  <thead>\n",
       "    <tr style=\"text-align: right;\">\n",
       "      <th></th>\n",
       "      <th>created_at</th>\n",
       "      <th>tweet_id</th>\n",
       "      <th>retweet_count</th>\n",
       "      <th>favorite_count</th>\n",
       "    </tr>\n",
       "  </thead>\n",
       "  <tbody>\n",
       "    <tr>\n",
       "      <th>0</th>\n",
       "      <td>2017-08-01</td>\n",
       "      <td>892420643555336193</td>\n",
       "      <td>8853</td>\n",
       "      <td>39467</td>\n",
       "    </tr>\n",
       "    <tr>\n",
       "      <th>1</th>\n",
       "      <td>2017-08-01</td>\n",
       "      <td>892177421306343426</td>\n",
       "      <td>6514</td>\n",
       "      <td>33819</td>\n",
       "    </tr>\n",
       "  </tbody>\n",
       "</table>\n",
       "</div>"
      ],
      "text/plain": [
       "   created_at            tweet_id  retweet_count  favorite_count\n",
       "0  2017-08-01  892420643555336193           8853           39467\n",
       "1  2017-08-01  892177421306343426           6514           33819"
      ]
     },
     "execution_count": 30,
     "metadata": {},
     "output_type": "execute_result"
    }
   ],
   "source": [
    "copy_df_twitter.head(2)"
   ]
  },
  {
   "cell_type": "markdown",
   "id": "a1436175",
   "metadata": {},
   "source": [
    "#### Issue 2: Convert timestamp from datetime to date"
   ]
  },
  {
   "cell_type": "code",
   "execution_count": 31,
   "id": "16d92bc4",
   "metadata": {},
   "outputs": [],
   "source": [
    "copy_df_archive['timestamp'] = pd.to_datetime(copy_df_archive['timestamp']).dt.date"
   ]
  },
  {
   "cell_type": "code",
   "execution_count": 32,
   "id": "ed570619",
   "metadata": {},
   "outputs": [
    {
     "data": {
      "text/html": [
       "<div>\n",
       "<style scoped>\n",
       "    .dataframe tbody tr th:only-of-type {\n",
       "        vertical-align: middle;\n",
       "    }\n",
       "\n",
       "    .dataframe tbody tr th {\n",
       "        vertical-align: top;\n",
       "    }\n",
       "\n",
       "    .dataframe thead th {\n",
       "        text-align: right;\n",
       "    }\n",
       "</style>\n",
       "<table border=\"1\" class=\"dataframe\">\n",
       "  <thead>\n",
       "    <tr style=\"text-align: right;\">\n",
       "      <th></th>\n",
       "      <th>tweet_id</th>\n",
       "      <th>timestamp</th>\n",
       "      <th>rating_numerator</th>\n",
       "      <th>rating_denominator</th>\n",
       "      <th>name</th>\n",
       "      <th>doggo</th>\n",
       "      <th>floofer</th>\n",
       "      <th>pupper</th>\n",
       "      <th>puppo</th>\n",
       "    </tr>\n",
       "  </thead>\n",
       "  <tbody>\n",
       "    <tr>\n",
       "      <th>0</th>\n",
       "      <td>892420643555336193</td>\n",
       "      <td>2017-08-01</td>\n",
       "      <td>13</td>\n",
       "      <td>10</td>\n",
       "      <td>Phineas</td>\n",
       "      <td>None</td>\n",
       "      <td>None</td>\n",
       "      <td>None</td>\n",
       "      <td>None</td>\n",
       "    </tr>\n",
       "    <tr>\n",
       "      <th>1</th>\n",
       "      <td>892177421306343426</td>\n",
       "      <td>2017-08-01</td>\n",
       "      <td>13</td>\n",
       "      <td>10</td>\n",
       "      <td>Tilly</td>\n",
       "      <td>None</td>\n",
       "      <td>None</td>\n",
       "      <td>None</td>\n",
       "      <td>None</td>\n",
       "    </tr>\n",
       "  </tbody>\n",
       "</table>\n",
       "</div>"
      ],
      "text/plain": [
       "             tweet_id   timestamp  rating_numerator  rating_denominator  \\\n",
       "0  892420643555336193  2017-08-01                13                  10   \n",
       "1  892177421306343426  2017-08-01                13                  10   \n",
       "\n",
       "      name doggo floofer pupper puppo  \n",
       "0  Phineas  None    None   None  None  \n",
       "1    Tilly  None    None   None  None  "
      ]
     },
     "execution_count": 32,
     "metadata": {},
     "output_type": "execute_result"
    }
   ],
   "source": [
    "copy_df_archive.head(2)"
   ]
  },
  {
   "cell_type": "markdown",
   "id": "f0069621",
   "metadata": {},
   "source": [
    "#### Issue 3: Fix the rating_numerator"
   ]
  },
  {
   "cell_type": "markdown",
   "id": "0c125f72",
   "metadata": {},
   "source": [
    "##### Code"
   ]
  },
  {
   "cell_type": "code",
   "execution_count": 33,
   "id": "9c2f2e05",
   "metadata": {},
   "outputs": [],
   "source": [
    "# write a function to replace extreme values in the rating numerator column\n",
    "def correct_numerator(x):\n",
    "    if x == 17:\n",
    "        return x - 7\n",
    "    elif x>18 and x<=26:\n",
    "        return x // 2\n",
    "    elif x>=27 and x<=100:\n",
    "        return x // 5\n",
    "    elif x>=100 and x <= 1776:\n",
    "        return 10\n",
    "    else: \n",
    "        return x"
   ]
  },
  {
   "cell_type": "markdown",
   "id": "835c4d0f",
   "metadata": {},
   "source": [
    "##### Test"
   ]
  },
  {
   "cell_type": "code",
   "execution_count": 100,
   "id": "6727e2be",
   "metadata": {},
   "outputs": [
    {
     "data": {
      "text/plain": [
       "array([13, 12, 14,  5, 10, 11,  6, 15,  0,  7, 16,  9,  8,  1,  3,  4,  2])"
      ]
     },
     "execution_count": 100,
     "metadata": {},
     "output_type": "execute_result"
    }
   ],
   "source": [
    "copy_df_archive.rating_numerator = copy_df_archive.rating_numerator.apply(correct_numerator)\n",
    "copy_df_archive.rating_numerator = copy_df_archive.rating_numerator.astype(int)\n",
    "copy_df_archive.rating_numerator.unique()"
   ]
  },
  {
   "cell_type": "markdown",
   "id": "87c3671d",
   "metadata": {},
   "source": [
    "#### Issue 4: Fix the rating_denominator"
   ]
  },
  {
   "cell_type": "markdown",
   "id": "9b4701d9",
   "metadata": {},
   "source": [
    "##### Code"
   ]
  },
  {
   "cell_type": "code",
   "execution_count": 35,
   "id": "4ce4b792",
   "metadata": {},
   "outputs": [],
   "source": [
    "def correct_denominator(x):\n",
    "    if x != 10:\n",
    "        return 10\n",
    "    else:\n",
    "        return x"
   ]
  },
  {
   "cell_type": "markdown",
   "id": "de356e0c",
   "metadata": {},
   "source": [
    "##### Test"
   ]
  },
  {
   "cell_type": "code",
   "execution_count": 36,
   "id": "9a8fc109",
   "metadata": {},
   "outputs": [
    {
     "data": {
      "text/plain": [
       "array([10], dtype=int64)"
      ]
     },
     "execution_count": 36,
     "metadata": {},
     "output_type": "execute_result"
    }
   ],
   "source": [
    "copy_df_archive.rating_denominator = copy_df_archive.rating_denominator.apply(correct_denominator)\n",
    "copy_df_archive.rating_denominator.unique()"
   ]
  },
  {
   "cell_type": "markdown",
   "id": "ebb92660",
   "metadata": {},
   "source": [
    "#### Issue 5: Change all tweet_id to object data types"
   ]
  },
  {
   "cell_type": "markdown",
   "id": "0c7afd4f",
   "metadata": {},
   "source": [
    "##### Code"
   ]
  },
  {
   "cell_type": "code",
   "execution_count": 94,
   "id": "0a8e6311",
   "metadata": {},
   "outputs": [],
   "source": [
    "copy_df_archive.tweet_id.astype(str);"
   ]
  },
  {
   "cell_type": "code",
   "execution_count": 95,
   "id": "b00cebc8",
   "metadata": {},
   "outputs": [],
   "source": [
    "copy_df_twitter.tweet_id.astype(str);"
   ]
  },
  {
   "cell_type": "code",
   "execution_count": 96,
   "id": "f12899e3",
   "metadata": {},
   "outputs": [],
   "source": [
    "copy_df_image.tweet_id.astype(str);"
   ]
  },
  {
   "cell_type": "markdown",
   "id": "b0c7717d",
   "metadata": {},
   "source": [
    "#### Test"
   ]
  },
  {
   "cell_type": "code",
   "execution_count": 38,
   "id": "721ee605",
   "metadata": {},
   "outputs": [
    {
     "name": "stdout",
     "output_type": "stream",
     "text": [
      "<class 'pandas.core.frame.DataFrame'>\n",
      "RangeIndex: 2354 entries, 0 to 2353\n",
      "Data columns (total 4 columns):\n",
      " #   Column          Non-Null Count  Dtype \n",
      "---  ------          --------------  ----- \n",
      " 0   created_at      2354 non-null   object\n",
      " 1   tweet_id        2354 non-null   int64 \n",
      " 2   retweet_count   2354 non-null   int64 \n",
      " 3   favorite_count  2354 non-null   int64 \n",
      "dtypes: int64(3), object(1)\n",
      "memory usage: 73.7+ KB\n"
     ]
    }
   ],
   "source": [
    "copy_df_twitter.info()"
   ]
  },
  {
   "cell_type": "code",
   "execution_count": 97,
   "id": "e61c0fcf",
   "metadata": {},
   "outputs": [
    {
     "name": "stdout",
     "output_type": "stream",
     "text": [
      "<class 'pandas.core.frame.DataFrame'>\n",
      "RangeIndex: 9424 entries, 0 to 9423\n",
      "Data columns (total 7 columns):\n",
      " #   Column              Non-Null Count  Dtype \n",
      "---  ------              --------------  ----- \n",
      " 0   tweet_id            9424 non-null   int64 \n",
      " 1   rating_numerator    9424 non-null   int32 \n",
      " 2   rating_denominator  9424 non-null   int64 \n",
      " 3   name                9424 non-null   object\n",
      " 4   timestamp           9424 non-null   object\n",
      " 5   dog_stage           9424 non-null   object\n",
      " 6   dog_stages_value    9424 non-null   object\n",
      "dtypes: int32(1), int64(2), object(4)\n",
      "memory usage: 478.7+ KB\n"
     ]
    }
   ],
   "source": [
    "copy_df_archive.info()"
   ]
  },
  {
   "cell_type": "code",
   "execution_count": 98,
   "id": "afd33342",
   "metadata": {},
   "outputs": [
    {
     "name": "stdout",
     "output_type": "stream",
     "text": [
      "<class 'pandas.core.frame.DataFrame'>\n",
      "RangeIndex: 2075 entries, 0 to 2074\n",
      "Data columns (total 4 columns):\n",
      " #   Column     Non-Null Count  Dtype \n",
      "---  ------     --------------  ----- \n",
      " 0   tweet_id   2075 non-null   int64 \n",
      " 1   img_num    2075 non-null   int64 \n",
      " 2   dog_breed  2075 non-null   object\n",
      " 3   p1_dog     2075 non-null   bool  \n",
      "dtypes: bool(1), int64(2), object(1)\n",
      "memory usage: 50.8+ KB\n"
     ]
    }
   ],
   "source": [
    "copy_df_image.info()"
   ]
  },
  {
   "cell_type": "markdown",
   "id": "be7086ea",
   "metadata": {},
   "source": [
    "#### Issue 6: Change favorite_count to int"
   ]
  },
  {
   "cell_type": "markdown",
   "id": "b23406e5",
   "metadata": {},
   "source": [
    "##### Code"
   ]
  },
  {
   "cell_type": "code",
   "execution_count": 89,
   "id": "ad2fb861",
   "metadata": {},
   "outputs": [
    {
     "data": {
      "text/plain": [
       "0       39467\n",
       "1       33819\n",
       "2       25461\n",
       "3       42908\n",
       "4       41048\n",
       "        ...  \n",
       "2349      111\n",
       "2350      311\n",
       "2351      128\n",
       "2352      132\n",
       "2353     2535\n",
       "Name: favorite_count, Length: 2354, dtype: int32"
      ]
     },
     "execution_count": 89,
     "metadata": {},
     "output_type": "execute_result"
    }
   ],
   "source": [
    "copy_df_twitter.favorite_count.astype(int)"
   ]
  },
  {
   "cell_type": "markdown",
   "id": "8d4f7521",
   "metadata": {},
   "source": [
    "##### Test"
   ]
  },
  {
   "cell_type": "code",
   "execution_count": 90,
   "id": "b27035f4",
   "metadata": {},
   "outputs": [
    {
     "name": "stdout",
     "output_type": "stream",
     "text": [
      "<class 'pandas.core.frame.DataFrame'>\n",
      "RangeIndex: 9424 entries, 0 to 9423\n",
      "Data columns (total 7 columns):\n",
      " #   Column              Non-Null Count  Dtype \n",
      "---  ------              --------------  ----- \n",
      " 0   tweet_id            9424 non-null   int64 \n",
      " 1   rating_numerator    9424 non-null   int32 \n",
      " 2   rating_denominator  9424 non-null   int64 \n",
      " 3   name                9424 non-null   object\n",
      " 4   timestamp           9424 non-null   object\n",
      " 5   dog_stage           9424 non-null   object\n",
      " 6   dog_stages_value    9424 non-null   object\n",
      "dtypes: int32(1), int64(2), object(4)\n",
      "memory usage: 478.7+ KB\n"
     ]
    }
   ],
   "source": [
    "copy_df_archive.info()"
   ]
  },
  {
   "cell_type": "markdown",
   "id": "cc2f0c1a",
   "metadata": {},
   "source": [
    "#### Issue 7: Changeretweet_count to int"
   ]
  },
  {
   "cell_type": "markdown",
   "id": "368b46e0",
   "metadata": {},
   "source": [
    "##### Code"
   ]
  },
  {
   "cell_type": "code",
   "execution_count": 88,
   "id": "8bbc4c97",
   "metadata": {},
   "outputs": [
    {
     "data": {
      "text/plain": [
       "0       8853\n",
       "1       6514\n",
       "2       4328\n",
       "3       8964\n",
       "4       9774\n",
       "        ... \n",
       "2349      41\n",
       "2350     147\n",
       "2351      47\n",
       "2352      48\n",
       "2353     532\n",
       "Name: retweet_count, Length: 2354, dtype: int32"
      ]
     },
     "execution_count": 88,
     "metadata": {},
     "output_type": "execute_result"
    }
   ],
   "source": [
    "copy_df_twitter.retweet_count.astype(int)"
   ]
  },
  {
   "cell_type": "markdown",
   "id": "848c11d3",
   "metadata": {},
   "source": [
    "##### Test"
   ]
  },
  {
   "cell_type": "code",
   "execution_count": 92,
   "id": "380bc807",
   "metadata": {},
   "outputs": [
    {
     "name": "stdout",
     "output_type": "stream",
     "text": [
      "<class 'pandas.core.frame.DataFrame'>\n",
      "RangeIndex: 2354 entries, 0 to 2353\n",
      "Data columns (total 4 columns):\n",
      " #   Column          Non-Null Count  Dtype \n",
      "---  ------          --------------  ----- \n",
      " 0   created_at      2354 non-null   object\n",
      " 1   tweet_id        2354 non-null   int64 \n",
      " 2   retweet_count   2354 non-null   int64 \n",
      " 3   favorite_count  2354 non-null   int64 \n",
      "dtypes: int64(3), object(1)\n",
      "memory usage: 73.7+ KB\n"
     ]
    }
   ],
   "source": [
    "copy_df_twitter.info()"
   ]
  },
  {
   "cell_type": "markdown",
   "id": "ed30063e",
   "metadata": {},
   "source": [
    "#### Issue  8: Replace underscores in p1 column with space"
   ]
  },
  {
   "cell_type": "markdown",
   "id": "8517a1dc",
   "metadata": {},
   "source": [
    "##### Code"
   ]
  },
  {
   "cell_type": "code",
   "execution_count": 43,
   "id": "39b670f1",
   "metadata": {},
   "outputs": [],
   "source": [
    "copy_df_image.dog_breed = copy_df_image.dog_breed.str.replace('_', ' ')"
   ]
  },
  {
   "cell_type": "markdown",
   "id": "23acccfd",
   "metadata": {},
   "source": [
    "##### Test"
   ]
  },
  {
   "cell_type": "code",
   "execution_count": 44,
   "id": "4471f4b7",
   "metadata": {},
   "outputs": [
    {
     "data": {
      "text/html": [
       "<div>\n",
       "<style scoped>\n",
       "    .dataframe tbody tr th:only-of-type {\n",
       "        vertical-align: middle;\n",
       "    }\n",
       "\n",
       "    .dataframe tbody tr th {\n",
       "        vertical-align: top;\n",
       "    }\n",
       "\n",
       "    .dataframe thead th {\n",
       "        text-align: right;\n",
       "    }\n",
       "</style>\n",
       "<table border=\"1\" class=\"dataframe\">\n",
       "  <thead>\n",
       "    <tr style=\"text-align: right;\">\n",
       "      <th></th>\n",
       "      <th>tweet_id</th>\n",
       "      <th>img_num</th>\n",
       "      <th>dog_breed</th>\n",
       "      <th>p1_dog</th>\n",
       "    </tr>\n",
       "  </thead>\n",
       "  <tbody>\n",
       "    <tr>\n",
       "      <th>0</th>\n",
       "      <td>666020888022790149</td>\n",
       "      <td>1</td>\n",
       "      <td>Welsh Springer Spaniel</td>\n",
       "      <td>True</td>\n",
       "    </tr>\n",
       "    <tr>\n",
       "      <th>1</th>\n",
       "      <td>666029285002620928</td>\n",
       "      <td>1</td>\n",
       "      <td>Redbone</td>\n",
       "      <td>True</td>\n",
       "    </tr>\n",
       "  </tbody>\n",
       "</table>\n",
       "</div>"
      ],
      "text/plain": [
       "             tweet_id  img_num               dog_breed  p1_dog\n",
       "0  666020888022790149        1  Welsh Springer Spaniel    True\n",
       "1  666029285002620928        1                 Redbone    True"
      ]
     },
     "execution_count": 44,
     "metadata": {},
     "output_type": "execute_result"
    }
   ],
   "source": [
    "copy_df_image.head(2)"
   ]
  },
  {
   "cell_type": "markdown",
   "id": "c244ff4f",
   "metadata": {},
   "source": [
    "### Tidiness Issues"
   ]
  },
  {
   "cell_type": "markdown",
   "id": "2c3f956b",
   "metadata": {},
   "source": [
    "#### Melt doggo, floofer, pupper, puppo columns to dog_stage value column"
   ]
  },
  {
   "cell_type": "markdown",
   "id": "daeec0d3",
   "metadata": {},
   "source": [
    "##### Code"
   ]
  },
  {
   "cell_type": "code",
   "execution_count": 45,
   "id": "77b7905f",
   "metadata": {},
   "outputs": [],
   "source": [
    "copy_df_archive = pd.melt(copy_df_archive, \n",
    "                          id_vars = ['tweet_id', 'rating_numerator', 'rating_denominator', 'name', 'timestamp'],\n",
    "                          var_name = 'dog_stage', \n",
    "                          value_name = 'dog_stages_value')"
   ]
  },
  {
   "cell_type": "markdown",
   "id": "51412f5e",
   "metadata": {},
   "source": [
    "##### Test"
   ]
  },
  {
   "cell_type": "code",
   "execution_count": 46,
   "id": "78a00f61",
   "metadata": {},
   "outputs": [
    {
     "data": {
      "text/html": [
       "<div>\n",
       "<style scoped>\n",
       "    .dataframe tbody tr th:only-of-type {\n",
       "        vertical-align: middle;\n",
       "    }\n",
       "\n",
       "    .dataframe tbody tr th {\n",
       "        vertical-align: top;\n",
       "    }\n",
       "\n",
       "    .dataframe thead th {\n",
       "        text-align: right;\n",
       "    }\n",
       "</style>\n",
       "<table border=\"1\" class=\"dataframe\">\n",
       "  <thead>\n",
       "    <tr style=\"text-align: right;\">\n",
       "      <th></th>\n",
       "      <th>tweet_id</th>\n",
       "      <th>rating_numerator</th>\n",
       "      <th>rating_denominator</th>\n",
       "      <th>name</th>\n",
       "      <th>timestamp</th>\n",
       "      <th>dog_stage</th>\n",
       "      <th>dog_stages_value</th>\n",
       "    </tr>\n",
       "  </thead>\n",
       "  <tbody>\n",
       "    <tr>\n",
       "      <th>0</th>\n",
       "      <td>892420643555336193</td>\n",
       "      <td>13</td>\n",
       "      <td>10</td>\n",
       "      <td>Phineas</td>\n",
       "      <td>2017-08-01</td>\n",
       "      <td>doggo</td>\n",
       "      <td>None</td>\n",
       "    </tr>\n",
       "    <tr>\n",
       "      <th>1</th>\n",
       "      <td>892177421306343426</td>\n",
       "      <td>13</td>\n",
       "      <td>10</td>\n",
       "      <td>Tilly</td>\n",
       "      <td>2017-08-01</td>\n",
       "      <td>doggo</td>\n",
       "      <td>None</td>\n",
       "    </tr>\n",
       "  </tbody>\n",
       "</table>\n",
       "</div>"
      ],
      "text/plain": [
       "             tweet_id  rating_numerator  rating_denominator     name  \\\n",
       "0  892420643555336193                13                  10  Phineas   \n",
       "1  892177421306343426                13                  10    Tilly   \n",
       "\n",
       "    timestamp dog_stage dog_stages_value  \n",
       "0  2017-08-01     doggo             None  \n",
       "1  2017-08-01     doggo             None  "
      ]
     },
     "execution_count": 46,
     "metadata": {},
     "output_type": "execute_result"
    }
   ],
   "source": [
    "copy_df_archive.head(2)"
   ]
  },
  {
   "cell_type": "markdown",
   "id": "11ef94e3",
   "metadata": {},
   "source": [
    "#### Merge all the dataframes into one master dataframe"
   ]
  },
  {
   "cell_type": "markdown",
   "id": "17409d79",
   "metadata": {},
   "source": [
    "##### Code"
   ]
  },
  {
   "cell_type": "code",
   "execution_count": 47,
   "id": "206f953e",
   "metadata": {},
   "outputs": [],
   "source": [
    "df_merge = pd.merge(copy_df_archive, copy_df_image, on = ['tweet_id'])"
   ]
  },
  {
   "cell_type": "code",
   "execution_count": 48,
   "id": "883a5412",
   "metadata": {},
   "outputs": [
    {
     "data": {
      "text/html": [
       "<div>\n",
       "<style scoped>\n",
       "    .dataframe tbody tr th:only-of-type {\n",
       "        vertical-align: middle;\n",
       "    }\n",
       "\n",
       "    .dataframe tbody tr th {\n",
       "        vertical-align: top;\n",
       "    }\n",
       "\n",
       "    .dataframe thead th {\n",
       "        text-align: right;\n",
       "    }\n",
       "</style>\n",
       "<table border=\"1\" class=\"dataframe\">\n",
       "  <thead>\n",
       "    <tr style=\"text-align: right;\">\n",
       "      <th></th>\n",
       "      <th>tweet_id</th>\n",
       "      <th>rating_numerator</th>\n",
       "      <th>rating_denominator</th>\n",
       "      <th>name</th>\n",
       "      <th>timestamp</th>\n",
       "      <th>dog_stage</th>\n",
       "      <th>dog_stages_value</th>\n",
       "      <th>img_num</th>\n",
       "      <th>dog_breed</th>\n",
       "      <th>p1_dog</th>\n",
       "    </tr>\n",
       "  </thead>\n",
       "  <tbody>\n",
       "    <tr>\n",
       "      <th>0</th>\n",
       "      <td>892420643555336193</td>\n",
       "      <td>13</td>\n",
       "      <td>10</td>\n",
       "      <td>Phineas</td>\n",
       "      <td>2017-08-01</td>\n",
       "      <td>doggo</td>\n",
       "      <td>None</td>\n",
       "      <td>1</td>\n",
       "      <td>Orange</td>\n",
       "      <td>False</td>\n",
       "    </tr>\n",
       "    <tr>\n",
       "      <th>1</th>\n",
       "      <td>892420643555336193</td>\n",
       "      <td>13</td>\n",
       "      <td>10</td>\n",
       "      <td>Phineas</td>\n",
       "      <td>2017-08-01</td>\n",
       "      <td>floofer</td>\n",
       "      <td>None</td>\n",
       "      <td>1</td>\n",
       "      <td>Orange</td>\n",
       "      <td>False</td>\n",
       "    </tr>\n",
       "    <tr>\n",
       "      <th>2</th>\n",
       "      <td>892420643555336193</td>\n",
       "      <td>13</td>\n",
       "      <td>10</td>\n",
       "      <td>Phineas</td>\n",
       "      <td>2017-08-01</td>\n",
       "      <td>pupper</td>\n",
       "      <td>None</td>\n",
       "      <td>1</td>\n",
       "      <td>Orange</td>\n",
       "      <td>False</td>\n",
       "    </tr>\n",
       "  </tbody>\n",
       "</table>\n",
       "</div>"
      ],
      "text/plain": [
       "             tweet_id  rating_numerator  rating_denominator     name  \\\n",
       "0  892420643555336193                13                  10  Phineas   \n",
       "1  892420643555336193                13                  10  Phineas   \n",
       "2  892420643555336193                13                  10  Phineas   \n",
       "\n",
       "    timestamp dog_stage dog_stages_value  img_num dog_breed  p1_dog  \n",
       "0  2017-08-01     doggo             None        1    Orange   False  \n",
       "1  2017-08-01   floofer             None        1    Orange   False  \n",
       "2  2017-08-01    pupper             None        1    Orange   False  "
      ]
     },
     "execution_count": 48,
     "metadata": {},
     "output_type": "execute_result"
    }
   ],
   "source": [
    "df_merge.head(3)"
   ]
  },
  {
   "cell_type": "code",
   "execution_count": 49,
   "id": "c02c70f7",
   "metadata": {},
   "outputs": [],
   "source": [
    "df_master = pd.merge(copy_df_twitter, df_merge, on = ['tweet_id'])"
   ]
  },
  {
   "cell_type": "markdown",
   "id": "dc73548a",
   "metadata": {},
   "source": [
    "##### Test"
   ]
  },
  {
   "cell_type": "code",
   "execution_count": 50,
   "id": "ad9574eb",
   "metadata": {},
   "outputs": [
    {
     "data": {
      "text/html": [
       "<div>\n",
       "<style scoped>\n",
       "    .dataframe tbody tr th:only-of-type {\n",
       "        vertical-align: middle;\n",
       "    }\n",
       "\n",
       "    .dataframe tbody tr th {\n",
       "        vertical-align: top;\n",
       "    }\n",
       "\n",
       "    .dataframe thead th {\n",
       "        text-align: right;\n",
       "    }\n",
       "</style>\n",
       "<table border=\"1\" class=\"dataframe\">\n",
       "  <thead>\n",
       "    <tr style=\"text-align: right;\">\n",
       "      <th></th>\n",
       "      <th>created_at</th>\n",
       "      <th>tweet_id</th>\n",
       "      <th>retweet_count</th>\n",
       "      <th>favorite_count</th>\n",
       "      <th>rating_numerator</th>\n",
       "      <th>rating_denominator</th>\n",
       "      <th>name</th>\n",
       "      <th>timestamp</th>\n",
       "      <th>dog_stage</th>\n",
       "      <th>dog_stages_value</th>\n",
       "      <th>img_num</th>\n",
       "      <th>dog_breed</th>\n",
       "      <th>p1_dog</th>\n",
       "    </tr>\n",
       "  </thead>\n",
       "  <tbody>\n",
       "    <tr>\n",
       "      <th>0</th>\n",
       "      <td>2017-08-01</td>\n",
       "      <td>892420643555336193</td>\n",
       "      <td>8853</td>\n",
       "      <td>39467</td>\n",
       "      <td>13</td>\n",
       "      <td>10</td>\n",
       "      <td>Phineas</td>\n",
       "      <td>2017-08-01</td>\n",
       "      <td>doggo</td>\n",
       "      <td>None</td>\n",
       "      <td>1</td>\n",
       "      <td>Orange</td>\n",
       "      <td>False</td>\n",
       "    </tr>\n",
       "    <tr>\n",
       "      <th>1</th>\n",
       "      <td>2017-08-01</td>\n",
       "      <td>892420643555336193</td>\n",
       "      <td>8853</td>\n",
       "      <td>39467</td>\n",
       "      <td>13</td>\n",
       "      <td>10</td>\n",
       "      <td>Phineas</td>\n",
       "      <td>2017-08-01</td>\n",
       "      <td>floofer</td>\n",
       "      <td>None</td>\n",
       "      <td>1</td>\n",
       "      <td>Orange</td>\n",
       "      <td>False</td>\n",
       "    </tr>\n",
       "    <tr>\n",
       "      <th>2</th>\n",
       "      <td>2017-08-01</td>\n",
       "      <td>892420643555336193</td>\n",
       "      <td>8853</td>\n",
       "      <td>39467</td>\n",
       "      <td>13</td>\n",
       "      <td>10</td>\n",
       "      <td>Phineas</td>\n",
       "      <td>2017-08-01</td>\n",
       "      <td>pupper</td>\n",
       "      <td>None</td>\n",
       "      <td>1</td>\n",
       "      <td>Orange</td>\n",
       "      <td>False</td>\n",
       "    </tr>\n",
       "    <tr>\n",
       "      <th>3</th>\n",
       "      <td>2017-08-01</td>\n",
       "      <td>892420643555336193</td>\n",
       "      <td>8853</td>\n",
       "      <td>39467</td>\n",
       "      <td>13</td>\n",
       "      <td>10</td>\n",
       "      <td>Phineas</td>\n",
       "      <td>2017-08-01</td>\n",
       "      <td>puppo</td>\n",
       "      <td>None</td>\n",
       "      <td>1</td>\n",
       "      <td>Orange</td>\n",
       "      <td>False</td>\n",
       "    </tr>\n",
       "    <tr>\n",
       "      <th>4</th>\n",
       "      <td>2017-08-01</td>\n",
       "      <td>892177421306343426</td>\n",
       "      <td>6514</td>\n",
       "      <td>33819</td>\n",
       "      <td>13</td>\n",
       "      <td>10</td>\n",
       "      <td>Tilly</td>\n",
       "      <td>2017-08-01</td>\n",
       "      <td>doggo</td>\n",
       "      <td>None</td>\n",
       "      <td>1</td>\n",
       "      <td>Chihuahua</td>\n",
       "      <td>True</td>\n",
       "    </tr>\n",
       "    <tr>\n",
       "      <th>5</th>\n",
       "      <td>2017-08-01</td>\n",
       "      <td>892177421306343426</td>\n",
       "      <td>6514</td>\n",
       "      <td>33819</td>\n",
       "      <td>13</td>\n",
       "      <td>10</td>\n",
       "      <td>Tilly</td>\n",
       "      <td>2017-08-01</td>\n",
       "      <td>floofer</td>\n",
       "      <td>None</td>\n",
       "      <td>1</td>\n",
       "      <td>Chihuahua</td>\n",
       "      <td>True</td>\n",
       "    </tr>\n",
       "    <tr>\n",
       "      <th>6</th>\n",
       "      <td>2017-08-01</td>\n",
       "      <td>892177421306343426</td>\n",
       "      <td>6514</td>\n",
       "      <td>33819</td>\n",
       "      <td>13</td>\n",
       "      <td>10</td>\n",
       "      <td>Tilly</td>\n",
       "      <td>2017-08-01</td>\n",
       "      <td>pupper</td>\n",
       "      <td>None</td>\n",
       "      <td>1</td>\n",
       "      <td>Chihuahua</td>\n",
       "      <td>True</td>\n",
       "    </tr>\n",
       "    <tr>\n",
       "      <th>7</th>\n",
       "      <td>2017-08-01</td>\n",
       "      <td>892177421306343426</td>\n",
       "      <td>6514</td>\n",
       "      <td>33819</td>\n",
       "      <td>13</td>\n",
       "      <td>10</td>\n",
       "      <td>Tilly</td>\n",
       "      <td>2017-08-01</td>\n",
       "      <td>puppo</td>\n",
       "      <td>None</td>\n",
       "      <td>1</td>\n",
       "      <td>Chihuahua</td>\n",
       "      <td>True</td>\n",
       "    </tr>\n",
       "    <tr>\n",
       "      <th>8</th>\n",
       "      <td>2017-07-31</td>\n",
       "      <td>891815181378084864</td>\n",
       "      <td>4328</td>\n",
       "      <td>25461</td>\n",
       "      <td>12</td>\n",
       "      <td>10</td>\n",
       "      <td>Archie</td>\n",
       "      <td>2017-07-31</td>\n",
       "      <td>doggo</td>\n",
       "      <td>None</td>\n",
       "      <td>1</td>\n",
       "      <td>Chihuahua</td>\n",
       "      <td>True</td>\n",
       "    </tr>\n",
       "    <tr>\n",
       "      <th>9</th>\n",
       "      <td>2017-07-31</td>\n",
       "      <td>891815181378084864</td>\n",
       "      <td>4328</td>\n",
       "      <td>25461</td>\n",
       "      <td>12</td>\n",
       "      <td>10</td>\n",
       "      <td>Archie</td>\n",
       "      <td>2017-07-31</td>\n",
       "      <td>floofer</td>\n",
       "      <td>None</td>\n",
       "      <td>1</td>\n",
       "      <td>Chihuahua</td>\n",
       "      <td>True</td>\n",
       "    </tr>\n",
       "  </tbody>\n",
       "</table>\n",
       "</div>"
      ],
      "text/plain": [
       "   created_at            tweet_id  retweet_count  favorite_count  \\\n",
       "0  2017-08-01  892420643555336193           8853           39467   \n",
       "1  2017-08-01  892420643555336193           8853           39467   \n",
       "2  2017-08-01  892420643555336193           8853           39467   \n",
       "3  2017-08-01  892420643555336193           8853           39467   \n",
       "4  2017-08-01  892177421306343426           6514           33819   \n",
       "5  2017-08-01  892177421306343426           6514           33819   \n",
       "6  2017-08-01  892177421306343426           6514           33819   \n",
       "7  2017-08-01  892177421306343426           6514           33819   \n",
       "8  2017-07-31  891815181378084864           4328           25461   \n",
       "9  2017-07-31  891815181378084864           4328           25461   \n",
       "\n",
       "   rating_numerator  rating_denominator     name   timestamp dog_stage  \\\n",
       "0                13                  10  Phineas  2017-08-01     doggo   \n",
       "1                13                  10  Phineas  2017-08-01   floofer   \n",
       "2                13                  10  Phineas  2017-08-01    pupper   \n",
       "3                13                  10  Phineas  2017-08-01     puppo   \n",
       "4                13                  10    Tilly  2017-08-01     doggo   \n",
       "5                13                  10    Tilly  2017-08-01   floofer   \n",
       "6                13                  10    Tilly  2017-08-01    pupper   \n",
       "7                13                  10    Tilly  2017-08-01     puppo   \n",
       "8                12                  10   Archie  2017-07-31     doggo   \n",
       "9                12                  10   Archie  2017-07-31   floofer   \n",
       "\n",
       "  dog_stages_value  img_num  dog_breed  p1_dog  \n",
       "0             None        1     Orange   False  \n",
       "1             None        1     Orange   False  \n",
       "2             None        1     Orange   False  \n",
       "3             None        1     Orange   False  \n",
       "4             None        1  Chihuahua    True  \n",
       "5             None        1  Chihuahua    True  \n",
       "6             None        1  Chihuahua    True  \n",
       "7             None        1  Chihuahua    True  \n",
       "8             None        1  Chihuahua    True  \n",
       "9             None        1  Chihuahua    True  "
      ]
     },
     "execution_count": 50,
     "metadata": {},
     "output_type": "execute_result"
    }
   ],
   "source": [
    "df_master.head(10)"
   ]
  },
  {
   "cell_type": "code",
   "execution_count": 51,
   "id": "cd2095ee",
   "metadata": {},
   "outputs": [
    {
     "data": {
      "text/plain": [
       "(8292, 13)"
      ]
     },
     "execution_count": 51,
     "metadata": {},
     "output_type": "execute_result"
    }
   ],
   "source": [
    "df_master.shape"
   ]
  },
  {
   "cell_type": "markdown",
   "id": "8dfb7365",
   "metadata": {},
   "source": [
    "## Storing Data\n",
    "Save gathered, assessed, and cleaned master dataset to a CSV file named \"twitter_archive_master.csv\"."
   ]
  },
  {
   "cell_type": "code",
   "execution_count": 52,
   "id": "309dbdfc",
   "metadata": {},
   "outputs": [],
   "source": [
    "df_master.to_csv(r'C:\\Users\\USER\\Desktop\\project 2\\twitter_archive_master.csv', index=False)"
   ]
  },
  {
   "cell_type": "markdown",
   "id": "a5958891",
   "metadata": {},
   "source": [
    "## Analyzing And Visualizing Data"
   ]
  },
  {
   "cell_type": "code",
   "execution_count": 53,
   "id": "b73b3c37",
   "metadata": {
    "scrolled": true
   },
   "outputs": [],
   "source": [
    "# Read twitter_archive_master.csv to a dataframe\n",
    "mastered_df = pd.read_csv('twitter_archive_master.csv')"
   ]
  },
  {
   "cell_type": "code",
   "execution_count": 54,
   "id": "0dc8118d",
   "metadata": {},
   "outputs": [
    {
     "data": {
      "text/html": [
       "<div>\n",
       "<style scoped>\n",
       "    .dataframe tbody tr th:only-of-type {\n",
       "        vertical-align: middle;\n",
       "    }\n",
       "\n",
       "    .dataframe tbody tr th {\n",
       "        vertical-align: top;\n",
       "    }\n",
       "\n",
       "    .dataframe thead th {\n",
       "        text-align: right;\n",
       "    }\n",
       "</style>\n",
       "<table border=\"1\" class=\"dataframe\">\n",
       "  <thead>\n",
       "    <tr style=\"text-align: right;\">\n",
       "      <th></th>\n",
       "      <th>created_at</th>\n",
       "      <th>tweet_id</th>\n",
       "      <th>retweet_count</th>\n",
       "      <th>favorite_count</th>\n",
       "      <th>rating_numerator</th>\n",
       "      <th>rating_denominator</th>\n",
       "      <th>name</th>\n",
       "      <th>timestamp</th>\n",
       "      <th>dog_stage</th>\n",
       "      <th>dog_stages_value</th>\n",
       "      <th>img_num</th>\n",
       "      <th>dog_breed</th>\n",
       "      <th>p1_dog</th>\n",
       "    </tr>\n",
       "  </thead>\n",
       "  <tbody>\n",
       "    <tr>\n",
       "      <th>0</th>\n",
       "      <td>2017-08-01</td>\n",
       "      <td>892420643555336193</td>\n",
       "      <td>8853</td>\n",
       "      <td>39467</td>\n",
       "      <td>13</td>\n",
       "      <td>10</td>\n",
       "      <td>Phineas</td>\n",
       "      <td>2017-08-01</td>\n",
       "      <td>doggo</td>\n",
       "      <td>None</td>\n",
       "      <td>1</td>\n",
       "      <td>Orange</td>\n",
       "      <td>False</td>\n",
       "    </tr>\n",
       "    <tr>\n",
       "      <th>1</th>\n",
       "      <td>2017-08-01</td>\n",
       "      <td>892420643555336193</td>\n",
       "      <td>8853</td>\n",
       "      <td>39467</td>\n",
       "      <td>13</td>\n",
       "      <td>10</td>\n",
       "      <td>Phineas</td>\n",
       "      <td>2017-08-01</td>\n",
       "      <td>floofer</td>\n",
       "      <td>None</td>\n",
       "      <td>1</td>\n",
       "      <td>Orange</td>\n",
       "      <td>False</td>\n",
       "    </tr>\n",
       "  </tbody>\n",
       "</table>\n",
       "</div>"
      ],
      "text/plain": [
       "   created_at            tweet_id  retweet_count  favorite_count  \\\n",
       "0  2017-08-01  892420643555336193           8853           39467   \n",
       "1  2017-08-01  892420643555336193           8853           39467   \n",
       "\n",
       "   rating_numerator  rating_denominator     name   timestamp dog_stage  \\\n",
       "0                13                  10  Phineas  2017-08-01     doggo   \n",
       "1                13                  10  Phineas  2017-08-01   floofer   \n",
       "\n",
       "  dog_stages_value  img_num dog_breed  p1_dog  \n",
       "0             None        1    Orange   False  \n",
       "1             None        1    Orange   False  "
      ]
     },
     "execution_count": 54,
     "metadata": {},
     "output_type": "execute_result"
    }
   ],
   "source": [
    "mastered_df.head(2)"
   ]
  },
  {
   "cell_type": "code",
   "execution_count": 55,
   "id": "982786ce",
   "metadata": {},
   "outputs": [],
   "source": [
    "mastered_df_copy = mastered_df.copy()"
   ]
  },
  {
   "cell_type": "code",
   "execution_count": 56,
   "id": "255e5264",
   "metadata": {},
   "outputs": [
    {
     "data": {
      "text/html": [
       "<div>\n",
       "<style scoped>\n",
       "    .dataframe tbody tr th:only-of-type {\n",
       "        vertical-align: middle;\n",
       "    }\n",
       "\n",
       "    .dataframe tbody tr th {\n",
       "        vertical-align: top;\n",
       "    }\n",
       "\n",
       "    .dataframe thead th {\n",
       "        text-align: right;\n",
       "    }\n",
       "</style>\n",
       "<table border=\"1\" class=\"dataframe\">\n",
       "  <thead>\n",
       "    <tr style=\"text-align: right;\">\n",
       "      <th></th>\n",
       "      <th>created_at</th>\n",
       "      <th>tweet_id</th>\n",
       "      <th>retweet_count</th>\n",
       "      <th>favorite_count</th>\n",
       "      <th>rating_numerator</th>\n",
       "      <th>rating_denominator</th>\n",
       "      <th>name</th>\n",
       "      <th>timestamp</th>\n",
       "      <th>dog_stage</th>\n",
       "      <th>dog_stages_value</th>\n",
       "      <th>img_num</th>\n",
       "      <th>dog_breed</th>\n",
       "      <th>p1_dog</th>\n",
       "    </tr>\n",
       "  </thead>\n",
       "  <tbody>\n",
       "    <tr>\n",
       "      <th>36</th>\n",
       "      <td>2017-07-26</td>\n",
       "      <td>890240255349198849</td>\n",
       "      <td>7711</td>\n",
       "      <td>32467</td>\n",
       "      <td>14</td>\n",
       "      <td>10</td>\n",
       "      <td>Cassie</td>\n",
       "      <td>2017-07-26</td>\n",
       "      <td>doggo</td>\n",
       "      <td>doggo</td>\n",
       "      <td>1</td>\n",
       "      <td>Pembroke</td>\n",
       "      <td>True</td>\n",
       "    </tr>\n",
       "    <tr>\n",
       "      <th>59</th>\n",
       "      <td>2017-07-24</td>\n",
       "      <td>889531135344209921</td>\n",
       "      <td>2321</td>\n",
       "      <td>15359</td>\n",
       "      <td>13</td>\n",
       "      <td>10</td>\n",
       "      <td>Stuart</td>\n",
       "      <td>2017-07-24</td>\n",
       "      <td>puppo</td>\n",
       "      <td>puppo</td>\n",
       "      <td>1</td>\n",
       "      <td>Golden Retriever</td>\n",
       "      <td>True</td>\n",
       "    </tr>\n",
       "    <tr>\n",
       "      <th>114</th>\n",
       "      <td>2017-07-15</td>\n",
       "      <td>886366144734445568</td>\n",
       "      <td>3316</td>\n",
       "      <td>21524</td>\n",
       "      <td>12</td>\n",
       "      <td>10</td>\n",
       "      <td>Roscoe</td>\n",
       "      <td>2017-07-15</td>\n",
       "      <td>pupper</td>\n",
       "      <td>pupper</td>\n",
       "      <td>1</td>\n",
       "      <td>French Bulldog</td>\n",
       "      <td>True</td>\n",
       "    </tr>\n",
       "    <tr>\n",
       "      <th>152</th>\n",
       "      <td>2017-07-09</td>\n",
       "      <td>884162670584377345</td>\n",
       "      <td>3128</td>\n",
       "      <td>20771</td>\n",
       "      <td>12</td>\n",
       "      <td>10</td>\n",
       "      <td>Yogi</td>\n",
       "      <td>2017-07-09</td>\n",
       "      <td>doggo</td>\n",
       "      <td>doggo</td>\n",
       "      <td>1</td>\n",
       "      <td>German Shepherd</td>\n",
       "      <td>True</td>\n",
       "    </tr>\n",
       "    <tr>\n",
       "      <th>165</th>\n",
       "      <td>2017-07-07</td>\n",
       "      <td>883360690899218434</td>\n",
       "      <td>3825</td>\n",
       "      <td>22986</td>\n",
       "      <td>13</td>\n",
       "      <td>10</td>\n",
       "      <td>Grizzwald</td>\n",
       "      <td>2017-07-07</td>\n",
       "      <td>floofer</td>\n",
       "      <td>floofer</td>\n",
       "      <td>1</td>\n",
       "      <td>Chow</td>\n",
       "      <td>True</td>\n",
       "    </tr>\n",
       "    <tr>\n",
       "      <th>178</th>\n",
       "      <td>2017-07-06</td>\n",
       "      <td>882762694511734784</td>\n",
       "      <td>5134</td>\n",
       "      <td>28903</td>\n",
       "      <td>12</td>\n",
       "      <td>10</td>\n",
       "      <td>Gus</td>\n",
       "      <td>2017-07-06</td>\n",
       "      <td>pupper</td>\n",
       "      <td>pupper</td>\n",
       "      <td>1</td>\n",
       "      <td>Labrador Retriever</td>\n",
       "      <td>True</td>\n",
       "    </tr>\n",
       "    <tr>\n",
       "      <th>202</th>\n",
       "      <td>2017-07-02</td>\n",
       "      <td>881536004380872706</td>\n",
       "      <td>16570</td>\n",
       "      <td>50199</td>\n",
       "      <td>14</td>\n",
       "      <td>10</td>\n",
       "      <td>a</td>\n",
       "      <td>2017-07-02</td>\n",
       "      <td>pupper</td>\n",
       "      <td>pupper</td>\n",
       "      <td>1</td>\n",
       "      <td>Samoyed</td>\n",
       "      <td>True</td>\n",
       "    </tr>\n",
       "    <tr>\n",
       "      <th>255</th>\n",
       "      <td>2017-06-25</td>\n",
       "      <td>878776093423087618</td>\n",
       "      <td>4319</td>\n",
       "      <td>19763</td>\n",
       "      <td>13</td>\n",
       "      <td>10</td>\n",
       "      <td>Snoopy</td>\n",
       "      <td>2017-06-25</td>\n",
       "      <td>puppo</td>\n",
       "      <td>puppo</td>\n",
       "      <td>2</td>\n",
       "      <td>Italian Greyhound</td>\n",
       "      <td>True</td>\n",
       "    </tr>\n",
       "    <tr>\n",
       "      <th>286</th>\n",
       "      <td>2017-06-19</td>\n",
       "      <td>876838120628539392</td>\n",
       "      <td>3506</td>\n",
       "      <td>21125</td>\n",
       "      <td>12</td>\n",
       "      <td>10</td>\n",
       "      <td>Ginger</td>\n",
       "      <td>2017-06-19</td>\n",
       "      <td>pupper</td>\n",
       "      <td>pupper</td>\n",
       "      <td>1</td>\n",
       "      <td>Bloodhound</td>\n",
       "      <td>True</td>\n",
       "    </tr>\n",
       "    <tr>\n",
       "      <th>314</th>\n",
       "      <td>2017-06-12</td>\n",
       "      <td>874296783580663808</td>\n",
       "      <td>4308</td>\n",
       "      <td>26651</td>\n",
       "      <td>13</td>\n",
       "      <td>10</td>\n",
       "      <td>Jed</td>\n",
       "      <td>2017-06-12</td>\n",
       "      <td>pupper</td>\n",
       "      <td>pupper</td>\n",
       "      <td>1</td>\n",
       "      <td>Cocker Spaniel</td>\n",
       "      <td>True</td>\n",
       "    </tr>\n",
       "  </tbody>\n",
       "</table>\n",
       "</div>"
      ],
      "text/plain": [
       "     created_at            tweet_id  retweet_count  favorite_count  \\\n",
       "36   2017-07-26  890240255349198849           7711           32467   \n",
       "59   2017-07-24  889531135344209921           2321           15359   \n",
       "114  2017-07-15  886366144734445568           3316           21524   \n",
       "152  2017-07-09  884162670584377345           3128           20771   \n",
       "165  2017-07-07  883360690899218434           3825           22986   \n",
       "178  2017-07-06  882762694511734784           5134           28903   \n",
       "202  2017-07-02  881536004380872706          16570           50199   \n",
       "255  2017-06-25  878776093423087618           4319           19763   \n",
       "286  2017-06-19  876838120628539392           3506           21125   \n",
       "314  2017-06-12  874296783580663808           4308           26651   \n",
       "\n",
       "     rating_numerator  rating_denominator       name   timestamp dog_stage  \\\n",
       "36                 14                  10     Cassie  2017-07-26     doggo   \n",
       "59                 13                  10     Stuart  2017-07-24     puppo   \n",
       "114                12                  10     Roscoe  2017-07-15    pupper   \n",
       "152                12                  10       Yogi  2017-07-09     doggo   \n",
       "165                13                  10  Grizzwald  2017-07-07   floofer   \n",
       "178                12                  10        Gus  2017-07-06    pupper   \n",
       "202                14                  10          a  2017-07-02    pupper   \n",
       "255                13                  10     Snoopy  2017-06-25     puppo   \n",
       "286                12                  10     Ginger  2017-06-19    pupper   \n",
       "314                13                  10        Jed  2017-06-12    pupper   \n",
       "\n",
       "    dog_stages_value  img_num           dog_breed  p1_dog  \n",
       "36             doggo        1            Pembroke    True  \n",
       "59             puppo        1    Golden Retriever    True  \n",
       "114           pupper        1      French Bulldog    True  \n",
       "152            doggo        1     German Shepherd    True  \n",
       "165          floofer        1                Chow    True  \n",
       "178           pupper        1  Labrador Retriever    True  \n",
       "202           pupper        1             Samoyed    True  \n",
       "255            puppo        2   Italian Greyhound    True  \n",
       "286           pupper        1          Bloodhound    True  \n",
       "314           pupper        1      Cocker Spaniel    True  "
      ]
     },
     "execution_count": 56,
     "metadata": {},
     "output_type": "execute_result"
    }
   ],
   "source": [
    "# Drop select rows in multiple columns\n",
    "index_drop = mastered_df_copy[(mastered_df_copy['p1_dog'] == 'False') | (mastered_df_copy['dog_stages_value'] == 'None') | (mastered_df_copy['name'] == 'None')].index\n",
    "mastered_df_copy.drop(index_drop, inplace=True)\n",
    "mastered_df_copy.head(10)"
   ]
  },
  {
   "cell_type": "code",
   "execution_count": 57,
   "id": "1edbda17",
   "metadata": {},
   "outputs": [
    {
     "data": {
      "text/plain": [
       "(203, 13)"
      ]
     },
     "execution_count": 57,
     "metadata": {},
     "output_type": "execute_result"
    }
   ],
   "source": [
    "mastered_df_copy.shape"
   ]
  },
  {
   "cell_type": "code",
   "execution_count": 58,
   "id": "f42fb05c",
   "metadata": {},
   "outputs": [],
   "source": [
    "#drop dog_stages_value column now that we've used it to drop unnecessary columns\n",
    "mastered_df_copy.drop('dog_stages_value', axis=1, inplace=True)"
   ]
  },
  {
   "cell_type": "code",
   "execution_count": 59,
   "id": "14728b9e",
   "metadata": {},
   "outputs": [
    {
     "data": {
      "text/html": [
       "<div>\n",
       "<style scoped>\n",
       "    .dataframe tbody tr th:only-of-type {\n",
       "        vertical-align: middle;\n",
       "    }\n",
       "\n",
       "    .dataframe tbody tr th {\n",
       "        vertical-align: top;\n",
       "    }\n",
       "\n",
       "    .dataframe thead th {\n",
       "        text-align: right;\n",
       "    }\n",
       "</style>\n",
       "<table border=\"1\" class=\"dataframe\">\n",
       "  <thead>\n",
       "    <tr style=\"text-align: right;\">\n",
       "      <th></th>\n",
       "      <th>created_at</th>\n",
       "      <th>tweet_id</th>\n",
       "      <th>retweet_count</th>\n",
       "      <th>favorite_count</th>\n",
       "      <th>rating_numerator</th>\n",
       "      <th>rating_denominator</th>\n",
       "      <th>name</th>\n",
       "      <th>timestamp</th>\n",
       "      <th>dog_stage</th>\n",
       "      <th>img_num</th>\n",
       "      <th>dog_breed</th>\n",
       "      <th>p1_dog</th>\n",
       "    </tr>\n",
       "  </thead>\n",
       "  <tbody>\n",
       "    <tr>\n",
       "      <th>36</th>\n",
       "      <td>2017-07-26</td>\n",
       "      <td>890240255349198849</td>\n",
       "      <td>7711</td>\n",
       "      <td>32467</td>\n",
       "      <td>14</td>\n",
       "      <td>10</td>\n",
       "      <td>Cassie</td>\n",
       "      <td>2017-07-26</td>\n",
       "      <td>doggo</td>\n",
       "      <td>1</td>\n",
       "      <td>Pembroke</td>\n",
       "      <td>True</td>\n",
       "    </tr>\n",
       "    <tr>\n",
       "      <th>59</th>\n",
       "      <td>2017-07-24</td>\n",
       "      <td>889531135344209921</td>\n",
       "      <td>2321</td>\n",
       "      <td>15359</td>\n",
       "      <td>13</td>\n",
       "      <td>10</td>\n",
       "      <td>Stuart</td>\n",
       "      <td>2017-07-24</td>\n",
       "      <td>puppo</td>\n",
       "      <td>1</td>\n",
       "      <td>Golden Retriever</td>\n",
       "      <td>True</td>\n",
       "    </tr>\n",
       "    <tr>\n",
       "      <th>114</th>\n",
       "      <td>2017-07-15</td>\n",
       "      <td>886366144734445568</td>\n",
       "      <td>3316</td>\n",
       "      <td>21524</td>\n",
       "      <td>12</td>\n",
       "      <td>10</td>\n",
       "      <td>Roscoe</td>\n",
       "      <td>2017-07-15</td>\n",
       "      <td>pupper</td>\n",
       "      <td>1</td>\n",
       "      <td>French Bulldog</td>\n",
       "      <td>True</td>\n",
       "    </tr>\n",
       "    <tr>\n",
       "      <th>152</th>\n",
       "      <td>2017-07-09</td>\n",
       "      <td>884162670584377345</td>\n",
       "      <td>3128</td>\n",
       "      <td>20771</td>\n",
       "      <td>12</td>\n",
       "      <td>10</td>\n",
       "      <td>Yogi</td>\n",
       "      <td>2017-07-09</td>\n",
       "      <td>doggo</td>\n",
       "      <td>1</td>\n",
       "      <td>German Shepherd</td>\n",
       "      <td>True</td>\n",
       "    </tr>\n",
       "    <tr>\n",
       "      <th>165</th>\n",
       "      <td>2017-07-07</td>\n",
       "      <td>883360690899218434</td>\n",
       "      <td>3825</td>\n",
       "      <td>22986</td>\n",
       "      <td>13</td>\n",
       "      <td>10</td>\n",
       "      <td>Grizzwald</td>\n",
       "      <td>2017-07-07</td>\n",
       "      <td>floofer</td>\n",
       "      <td>1</td>\n",
       "      <td>Chow</td>\n",
       "      <td>True</td>\n",
       "    </tr>\n",
       "    <tr>\n",
       "      <th>...</th>\n",
       "      <td>...</td>\n",
       "      <td>...</td>\n",
       "      <td>...</td>\n",
       "      <td>...</td>\n",
       "      <td>...</td>\n",
       "      <td>...</td>\n",
       "      <td>...</td>\n",
       "      <td>...</td>\n",
       "      <td>...</td>\n",
       "      <td>...</td>\n",
       "      <td>...</td>\n",
       "      <td>...</td>\n",
       "    </tr>\n",
       "    <tr>\n",
       "      <th>6870</th>\n",
       "      <td>2015-12-04</td>\n",
       "      <td>672594978741354496</td>\n",
       "      <td>661</td>\n",
       "      <td>1411</td>\n",
       "      <td>9</td>\n",
       "      <td>10</td>\n",
       "      <td>Scott</td>\n",
       "      <td>2015-12-04</td>\n",
       "      <td>pupper</td>\n",
       "      <td>1</td>\n",
       "      <td>Great Pyrenees</td>\n",
       "      <td>True</td>\n",
       "    </tr>\n",
       "    <tr>\n",
       "      <th>6898</th>\n",
       "      <td>2015-12-03</td>\n",
       "      <td>672481316919734272</td>\n",
       "      <td>137</td>\n",
       "      <td>757</td>\n",
       "      <td>12</td>\n",
       "      <td>10</td>\n",
       "      <td>Jazz</td>\n",
       "      <td>2015-12-03</td>\n",
       "      <td>pupper</td>\n",
       "      <td>1</td>\n",
       "      <td>Border Collie</td>\n",
       "      <td>True</td>\n",
       "    </tr>\n",
       "    <tr>\n",
       "      <th>6926</th>\n",
       "      <td>2015-12-03</td>\n",
       "      <td>672254177670729728</td>\n",
       "      <td>800</td>\n",
       "      <td>1515</td>\n",
       "      <td>11</td>\n",
       "      <td>10</td>\n",
       "      <td>Rolf</td>\n",
       "      <td>2015-12-03</td>\n",
       "      <td>pupper</td>\n",
       "      <td>1</td>\n",
       "      <td>Pug</td>\n",
       "      <td>True</td>\n",
       "    </tr>\n",
       "    <tr>\n",
       "      <th>6950</th>\n",
       "      <td>2015-12-03</td>\n",
       "      <td>672205392827572224</td>\n",
       "      <td>1270</td>\n",
       "      <td>2414</td>\n",
       "      <td>9</td>\n",
       "      <td>10</td>\n",
       "      <td>Opal</td>\n",
       "      <td>2015-12-03</td>\n",
       "      <td>pupper</td>\n",
       "      <td>1</td>\n",
       "      <td>Carton</td>\n",
       "      <td>False</td>\n",
       "    </tr>\n",
       "    <tr>\n",
       "      <th>6958</th>\n",
       "      <td>2015-12-02</td>\n",
       "      <td>672160042234327040</td>\n",
       "      <td>395</td>\n",
       "      <td>918</td>\n",
       "      <td>8</td>\n",
       "      <td>10</td>\n",
       "      <td>Bubba</td>\n",
       "      <td>2015-12-02</td>\n",
       "      <td>pupper</td>\n",
       "      <td>1</td>\n",
       "      <td>Pug</td>\n",
       "      <td>True</td>\n",
       "    </tr>\n",
       "  </tbody>\n",
       "</table>\n",
       "<p>203 rows × 12 columns</p>\n",
       "</div>"
      ],
      "text/plain": [
       "      created_at            tweet_id  retweet_count  favorite_count  \\\n",
       "36    2017-07-26  890240255349198849           7711           32467   \n",
       "59    2017-07-24  889531135344209921           2321           15359   \n",
       "114   2017-07-15  886366144734445568           3316           21524   \n",
       "152   2017-07-09  884162670584377345           3128           20771   \n",
       "165   2017-07-07  883360690899218434           3825           22986   \n",
       "...          ...                 ...            ...             ...   \n",
       "6870  2015-12-04  672594978741354496            661            1411   \n",
       "6898  2015-12-03  672481316919734272            137             757   \n",
       "6926  2015-12-03  672254177670729728            800            1515   \n",
       "6950  2015-12-03  672205392827572224           1270            2414   \n",
       "6958  2015-12-02  672160042234327040            395             918   \n",
       "\n",
       "      rating_numerator  rating_denominator       name   timestamp dog_stage  \\\n",
       "36                  14                  10     Cassie  2017-07-26     doggo   \n",
       "59                  13                  10     Stuart  2017-07-24     puppo   \n",
       "114                 12                  10     Roscoe  2017-07-15    pupper   \n",
       "152                 12                  10       Yogi  2017-07-09     doggo   \n",
       "165                 13                  10  Grizzwald  2017-07-07   floofer   \n",
       "...                ...                 ...        ...         ...       ...   \n",
       "6870                 9                  10      Scott  2015-12-04    pupper   \n",
       "6898                12                  10       Jazz  2015-12-03    pupper   \n",
       "6926                11                  10       Rolf  2015-12-03    pupper   \n",
       "6950                 9                  10       Opal  2015-12-03    pupper   \n",
       "6958                 8                  10      Bubba  2015-12-02    pupper   \n",
       "\n",
       "      img_num         dog_breed  p1_dog  \n",
       "36          1          Pembroke    True  \n",
       "59          1  Golden Retriever    True  \n",
       "114         1    French Bulldog    True  \n",
       "152         1   German Shepherd    True  \n",
       "165         1              Chow    True  \n",
       "...       ...               ...     ...  \n",
       "6870        1    Great Pyrenees    True  \n",
       "6898        1     Border Collie    True  \n",
       "6926        1               Pug    True  \n",
       "6950        1            Carton   False  \n",
       "6958        1               Pug    True  \n",
       "\n",
       "[203 rows x 12 columns]"
      ]
     },
     "execution_count": 59,
     "metadata": {},
     "output_type": "execute_result"
    }
   ],
   "source": [
    "mastered_df_copy"
   ]
  },
  {
   "cell_type": "code",
   "execution_count": 60,
   "id": "fd87e58a",
   "metadata": {},
   "outputs": [
    {
     "data": {
      "text/plain": [
       "array([ True, False])"
      ]
     },
     "execution_count": 60,
     "metadata": {},
     "output_type": "execute_result"
    }
   ],
   "source": [
    "#check for unique values in p1_dog column\n",
    "mastered_df_copy.p1_dog.unique()"
   ]
  },
  {
   "cell_type": "markdown",
   "id": "55663c70",
   "metadata": {},
   "source": [
    "There are still rows with False in it but then again, I am not a magician :'("
   ]
  },
  {
   "cell_type": "code",
   "execution_count": 61,
   "id": "465fecd1",
   "metadata": {},
   "outputs": [
    {
     "data": {
      "text/html": [
       "<div>\n",
       "<style scoped>\n",
       "    .dataframe tbody tr th:only-of-type {\n",
       "        vertical-align: middle;\n",
       "    }\n",
       "\n",
       "    .dataframe tbody tr th {\n",
       "        vertical-align: top;\n",
       "    }\n",
       "\n",
       "    .dataframe thead th {\n",
       "        text-align: right;\n",
       "    }\n",
       "</style>\n",
       "<table border=\"1\" class=\"dataframe\">\n",
       "  <thead>\n",
       "    <tr style=\"text-align: right;\">\n",
       "      <th></th>\n",
       "      <th>created_at</th>\n",
       "      <th>tweet_id</th>\n",
       "      <th>retweet_count</th>\n",
       "      <th>favorite_count</th>\n",
       "      <th>rating_numerator</th>\n",
       "      <th>rating_denominator</th>\n",
       "      <th>name</th>\n",
       "      <th>timestamp</th>\n",
       "      <th>dog_stage</th>\n",
       "      <th>img_num</th>\n",
       "      <th>dog_breed</th>\n",
       "      <th>p1_dog</th>\n",
       "    </tr>\n",
       "  </thead>\n",
       "  <tbody>\n",
       "    <tr>\n",
       "      <th>36</th>\n",
       "      <td>2017-07-26</td>\n",
       "      <td>890240255349198849</td>\n",
       "      <td>7711</td>\n",
       "      <td>32467</td>\n",
       "      <td>14</td>\n",
       "      <td>10</td>\n",
       "      <td>Cassie</td>\n",
       "      <td>2017-07-26</td>\n",
       "      <td>doggo</td>\n",
       "      <td>1</td>\n",
       "      <td>Pembroke</td>\n",
       "      <td>True</td>\n",
       "    </tr>\n",
       "    <tr>\n",
       "      <th>59</th>\n",
       "      <td>2017-07-24</td>\n",
       "      <td>889531135344209921</td>\n",
       "      <td>2321</td>\n",
       "      <td>15359</td>\n",
       "      <td>13</td>\n",
       "      <td>10</td>\n",
       "      <td>Stuart</td>\n",
       "      <td>2017-07-24</td>\n",
       "      <td>puppo</td>\n",
       "      <td>1</td>\n",
       "      <td>Golden Retriever</td>\n",
       "      <td>True</td>\n",
       "    </tr>\n",
       "    <tr>\n",
       "      <th>114</th>\n",
       "      <td>2017-07-15</td>\n",
       "      <td>886366144734445568</td>\n",
       "      <td>3316</td>\n",
       "      <td>21524</td>\n",
       "      <td>12</td>\n",
       "      <td>10</td>\n",
       "      <td>Roscoe</td>\n",
       "      <td>2017-07-15</td>\n",
       "      <td>pupper</td>\n",
       "      <td>1</td>\n",
       "      <td>French Bulldog</td>\n",
       "      <td>True</td>\n",
       "    </tr>\n",
       "    <tr>\n",
       "      <th>152</th>\n",
       "      <td>2017-07-09</td>\n",
       "      <td>884162670584377345</td>\n",
       "      <td>3128</td>\n",
       "      <td>20771</td>\n",
       "      <td>12</td>\n",
       "      <td>10</td>\n",
       "      <td>Yogi</td>\n",
       "      <td>2017-07-09</td>\n",
       "      <td>doggo</td>\n",
       "      <td>1</td>\n",
       "      <td>German Shepherd</td>\n",
       "      <td>True</td>\n",
       "    </tr>\n",
       "    <tr>\n",
       "      <th>165</th>\n",
       "      <td>2017-07-07</td>\n",
       "      <td>883360690899218434</td>\n",
       "      <td>3825</td>\n",
       "      <td>22986</td>\n",
       "      <td>13</td>\n",
       "      <td>10</td>\n",
       "      <td>Grizzwald</td>\n",
       "      <td>2017-07-07</td>\n",
       "      <td>floofer</td>\n",
       "      <td>1</td>\n",
       "      <td>Chow</td>\n",
       "      <td>True</td>\n",
       "    </tr>\n",
       "    <tr>\n",
       "      <th>...</th>\n",
       "      <td>...</td>\n",
       "      <td>...</td>\n",
       "      <td>...</td>\n",
       "      <td>...</td>\n",
       "      <td>...</td>\n",
       "      <td>...</td>\n",
       "      <td>...</td>\n",
       "      <td>...</td>\n",
       "      <td>...</td>\n",
       "      <td>...</td>\n",
       "      <td>...</td>\n",
       "      <td>...</td>\n",
       "    </tr>\n",
       "    <tr>\n",
       "      <th>6810</th>\n",
       "      <td>2015-12-05</td>\n",
       "      <td>672975131468300288</td>\n",
       "      <td>1015</td>\n",
       "      <td>1813</td>\n",
       "      <td>10</td>\n",
       "      <td>10</td>\n",
       "      <td>Chuckles</td>\n",
       "      <td>2015-12-05</td>\n",
       "      <td>pupper</td>\n",
       "      <td>1</td>\n",
       "      <td>Pug</td>\n",
       "      <td>True</td>\n",
       "    </tr>\n",
       "    <tr>\n",
       "      <th>6870</th>\n",
       "      <td>2015-12-04</td>\n",
       "      <td>672594978741354496</td>\n",
       "      <td>661</td>\n",
       "      <td>1411</td>\n",
       "      <td>9</td>\n",
       "      <td>10</td>\n",
       "      <td>Scott</td>\n",
       "      <td>2015-12-04</td>\n",
       "      <td>pupper</td>\n",
       "      <td>1</td>\n",
       "      <td>Great Pyrenees</td>\n",
       "      <td>True</td>\n",
       "    </tr>\n",
       "    <tr>\n",
       "      <th>6898</th>\n",
       "      <td>2015-12-03</td>\n",
       "      <td>672481316919734272</td>\n",
       "      <td>137</td>\n",
       "      <td>757</td>\n",
       "      <td>12</td>\n",
       "      <td>10</td>\n",
       "      <td>Jazz</td>\n",
       "      <td>2015-12-03</td>\n",
       "      <td>pupper</td>\n",
       "      <td>1</td>\n",
       "      <td>Border Collie</td>\n",
       "      <td>True</td>\n",
       "    </tr>\n",
       "    <tr>\n",
       "      <th>6926</th>\n",
       "      <td>2015-12-03</td>\n",
       "      <td>672254177670729728</td>\n",
       "      <td>800</td>\n",
       "      <td>1515</td>\n",
       "      <td>11</td>\n",
       "      <td>10</td>\n",
       "      <td>Rolf</td>\n",
       "      <td>2015-12-03</td>\n",
       "      <td>pupper</td>\n",
       "      <td>1</td>\n",
       "      <td>Pug</td>\n",
       "      <td>True</td>\n",
       "    </tr>\n",
       "    <tr>\n",
       "      <th>6958</th>\n",
       "      <td>2015-12-02</td>\n",
       "      <td>672160042234327040</td>\n",
       "      <td>395</td>\n",
       "      <td>918</td>\n",
       "      <td>8</td>\n",
       "      <td>10</td>\n",
       "      <td>Bubba</td>\n",
       "      <td>2015-12-02</td>\n",
       "      <td>pupper</td>\n",
       "      <td>1</td>\n",
       "      <td>Pug</td>\n",
       "      <td>True</td>\n",
       "    </tr>\n",
       "  </tbody>\n",
       "</table>\n",
       "<p>153 rows × 12 columns</p>\n",
       "</div>"
      ],
      "text/plain": [
       "      created_at            tweet_id  retweet_count  favorite_count  \\\n",
       "36    2017-07-26  890240255349198849           7711           32467   \n",
       "59    2017-07-24  889531135344209921           2321           15359   \n",
       "114   2017-07-15  886366144734445568           3316           21524   \n",
       "152   2017-07-09  884162670584377345           3128           20771   \n",
       "165   2017-07-07  883360690899218434           3825           22986   \n",
       "...          ...                 ...            ...             ...   \n",
       "6810  2015-12-05  672975131468300288           1015            1813   \n",
       "6870  2015-12-04  672594978741354496            661            1411   \n",
       "6898  2015-12-03  672481316919734272            137             757   \n",
       "6926  2015-12-03  672254177670729728            800            1515   \n",
       "6958  2015-12-02  672160042234327040            395             918   \n",
       "\n",
       "      rating_numerator  rating_denominator       name   timestamp dog_stage  \\\n",
       "36                  14                  10     Cassie  2017-07-26     doggo   \n",
       "59                  13                  10     Stuart  2017-07-24     puppo   \n",
       "114                 12                  10     Roscoe  2017-07-15    pupper   \n",
       "152                 12                  10       Yogi  2017-07-09     doggo   \n",
       "165                 13                  10  Grizzwald  2017-07-07   floofer   \n",
       "...                ...                 ...        ...         ...       ...   \n",
       "6810                10                  10   Chuckles  2015-12-05    pupper   \n",
       "6870                 9                  10      Scott  2015-12-04    pupper   \n",
       "6898                12                  10       Jazz  2015-12-03    pupper   \n",
       "6926                11                  10       Rolf  2015-12-03    pupper   \n",
       "6958                 8                  10      Bubba  2015-12-02    pupper   \n",
       "\n",
       "      img_num         dog_breed  p1_dog  \n",
       "36          1          Pembroke    True  \n",
       "59          1  Golden Retriever    True  \n",
       "114         1    French Bulldog    True  \n",
       "152         1   German Shepherd    True  \n",
       "165         1              Chow    True  \n",
       "...       ...               ...     ...  \n",
       "6810        1               Pug    True  \n",
       "6870        1    Great Pyrenees    True  \n",
       "6898        1     Border Collie    True  \n",
       "6926        1               Pug    True  \n",
       "6958        1               Pug    True  \n",
       "\n",
       "[153 rows x 12 columns]"
      ]
     },
     "execution_count": 61,
     "metadata": {},
     "output_type": "execute_result"
    }
   ],
   "source": [
    "mastered_df_copy.query('p1_dog == True')"
   ]
  },
  {
   "cell_type": "code",
   "execution_count": 62,
   "id": "483be65f",
   "metadata": {},
   "outputs": [
    {
     "data": {
      "text/plain": [
       "(203, 12)"
      ]
     },
     "execution_count": 62,
     "metadata": {},
     "output_type": "execute_result"
    }
   ],
   "source": [
    "#check shape of dataframe\n",
    "mastered_df_copy.shape"
   ]
  },
  {
   "cell_type": "code",
   "execution_count": 63,
   "id": "1cdc4083",
   "metadata": {},
   "outputs": [
    {
     "data": {
      "text/html": [
       "<div>\n",
       "<style scoped>\n",
       "    .dataframe tbody tr th:only-of-type {\n",
       "        vertical-align: middle;\n",
       "    }\n",
       "\n",
       "    .dataframe tbody tr th {\n",
       "        vertical-align: top;\n",
       "    }\n",
       "\n",
       "    .dataframe thead th {\n",
       "        text-align: right;\n",
       "    }\n",
       "</style>\n",
       "<table border=\"1\" class=\"dataframe\">\n",
       "  <thead>\n",
       "    <tr style=\"text-align: right;\">\n",
       "      <th></th>\n",
       "      <th>created_at</th>\n",
       "      <th>tweet_id</th>\n",
       "      <th>retweet_count</th>\n",
       "      <th>favorite_count</th>\n",
       "      <th>rating_numerator</th>\n",
       "      <th>rating_denominator</th>\n",
       "      <th>name</th>\n",
       "      <th>timestamp</th>\n",
       "      <th>dog_stage</th>\n",
       "      <th>img_num</th>\n",
       "      <th>dog_breed</th>\n",
       "      <th>p1_dog</th>\n",
       "    </tr>\n",
       "  </thead>\n",
       "  <tbody>\n",
       "    <tr>\n",
       "      <th>0</th>\n",
       "      <td>2017-07-26</td>\n",
       "      <td>890240255349198849</td>\n",
       "      <td>7711</td>\n",
       "      <td>32467</td>\n",
       "      <td>14</td>\n",
       "      <td>10</td>\n",
       "      <td>Cassie</td>\n",
       "      <td>2017-07-26</td>\n",
       "      <td>doggo</td>\n",
       "      <td>1</td>\n",
       "      <td>Pembroke</td>\n",
       "      <td>True</td>\n",
       "    </tr>\n",
       "    <tr>\n",
       "      <th>1</th>\n",
       "      <td>2017-07-24</td>\n",
       "      <td>889531135344209921</td>\n",
       "      <td>2321</td>\n",
       "      <td>15359</td>\n",
       "      <td>13</td>\n",
       "      <td>10</td>\n",
       "      <td>Stuart</td>\n",
       "      <td>2017-07-24</td>\n",
       "      <td>puppo</td>\n",
       "      <td>1</td>\n",
       "      <td>Golden Retriever</td>\n",
       "      <td>True</td>\n",
       "    </tr>\n",
       "    <tr>\n",
       "      <th>2</th>\n",
       "      <td>2017-07-15</td>\n",
       "      <td>886366144734445568</td>\n",
       "      <td>3316</td>\n",
       "      <td>21524</td>\n",
       "      <td>12</td>\n",
       "      <td>10</td>\n",
       "      <td>Roscoe</td>\n",
       "      <td>2017-07-15</td>\n",
       "      <td>pupper</td>\n",
       "      <td>1</td>\n",
       "      <td>French Bulldog</td>\n",
       "      <td>True</td>\n",
       "    </tr>\n",
       "    <tr>\n",
       "      <th>3</th>\n",
       "      <td>2017-07-09</td>\n",
       "      <td>884162670584377345</td>\n",
       "      <td>3128</td>\n",
       "      <td>20771</td>\n",
       "      <td>12</td>\n",
       "      <td>10</td>\n",
       "      <td>Yogi</td>\n",
       "      <td>2017-07-09</td>\n",
       "      <td>doggo</td>\n",
       "      <td>1</td>\n",
       "      <td>German Shepherd</td>\n",
       "      <td>True</td>\n",
       "    </tr>\n",
       "    <tr>\n",
       "      <th>4</th>\n",
       "      <td>2017-07-07</td>\n",
       "      <td>883360690899218434</td>\n",
       "      <td>3825</td>\n",
       "      <td>22986</td>\n",
       "      <td>13</td>\n",
       "      <td>10</td>\n",
       "      <td>Grizzwald</td>\n",
       "      <td>2017-07-07</td>\n",
       "      <td>floofer</td>\n",
       "      <td>1</td>\n",
       "      <td>Chow</td>\n",
       "      <td>True</td>\n",
       "    </tr>\n",
       "    <tr>\n",
       "      <th>...</th>\n",
       "      <td>...</td>\n",
       "      <td>...</td>\n",
       "      <td>...</td>\n",
       "      <td>...</td>\n",
       "      <td>...</td>\n",
       "      <td>...</td>\n",
       "      <td>...</td>\n",
       "      <td>...</td>\n",
       "      <td>...</td>\n",
       "      <td>...</td>\n",
       "      <td>...</td>\n",
       "      <td>...</td>\n",
       "    </tr>\n",
       "    <tr>\n",
       "      <th>198</th>\n",
       "      <td>2015-12-04</td>\n",
       "      <td>672594978741354496</td>\n",
       "      <td>661</td>\n",
       "      <td>1411</td>\n",
       "      <td>9</td>\n",
       "      <td>10</td>\n",
       "      <td>Scott</td>\n",
       "      <td>2015-12-04</td>\n",
       "      <td>pupper</td>\n",
       "      <td>1</td>\n",
       "      <td>Great Pyrenees</td>\n",
       "      <td>True</td>\n",
       "    </tr>\n",
       "    <tr>\n",
       "      <th>199</th>\n",
       "      <td>2015-12-03</td>\n",
       "      <td>672481316919734272</td>\n",
       "      <td>137</td>\n",
       "      <td>757</td>\n",
       "      <td>12</td>\n",
       "      <td>10</td>\n",
       "      <td>Jazz</td>\n",
       "      <td>2015-12-03</td>\n",
       "      <td>pupper</td>\n",
       "      <td>1</td>\n",
       "      <td>Border Collie</td>\n",
       "      <td>True</td>\n",
       "    </tr>\n",
       "    <tr>\n",
       "      <th>200</th>\n",
       "      <td>2015-12-03</td>\n",
       "      <td>672254177670729728</td>\n",
       "      <td>800</td>\n",
       "      <td>1515</td>\n",
       "      <td>11</td>\n",
       "      <td>10</td>\n",
       "      <td>Rolf</td>\n",
       "      <td>2015-12-03</td>\n",
       "      <td>pupper</td>\n",
       "      <td>1</td>\n",
       "      <td>Pug</td>\n",
       "      <td>True</td>\n",
       "    </tr>\n",
       "    <tr>\n",
       "      <th>201</th>\n",
       "      <td>2015-12-03</td>\n",
       "      <td>672205392827572224</td>\n",
       "      <td>1270</td>\n",
       "      <td>2414</td>\n",
       "      <td>9</td>\n",
       "      <td>10</td>\n",
       "      <td>Opal</td>\n",
       "      <td>2015-12-03</td>\n",
       "      <td>pupper</td>\n",
       "      <td>1</td>\n",
       "      <td>Carton</td>\n",
       "      <td>False</td>\n",
       "    </tr>\n",
       "    <tr>\n",
       "      <th>202</th>\n",
       "      <td>2015-12-02</td>\n",
       "      <td>672160042234327040</td>\n",
       "      <td>395</td>\n",
       "      <td>918</td>\n",
       "      <td>8</td>\n",
       "      <td>10</td>\n",
       "      <td>Bubba</td>\n",
       "      <td>2015-12-02</td>\n",
       "      <td>pupper</td>\n",
       "      <td>1</td>\n",
       "      <td>Pug</td>\n",
       "      <td>True</td>\n",
       "    </tr>\n",
       "  </tbody>\n",
       "</table>\n",
       "<p>203 rows × 12 columns</p>\n",
       "</div>"
      ],
      "text/plain": [
       "     created_at            tweet_id  retweet_count  favorite_count  \\\n",
       "0    2017-07-26  890240255349198849           7711           32467   \n",
       "1    2017-07-24  889531135344209921           2321           15359   \n",
       "2    2017-07-15  886366144734445568           3316           21524   \n",
       "3    2017-07-09  884162670584377345           3128           20771   \n",
       "4    2017-07-07  883360690899218434           3825           22986   \n",
       "..          ...                 ...            ...             ...   \n",
       "198  2015-12-04  672594978741354496            661            1411   \n",
       "199  2015-12-03  672481316919734272            137             757   \n",
       "200  2015-12-03  672254177670729728            800            1515   \n",
       "201  2015-12-03  672205392827572224           1270            2414   \n",
       "202  2015-12-02  672160042234327040            395             918   \n",
       "\n",
       "     rating_numerator  rating_denominator       name   timestamp dog_stage  \\\n",
       "0                  14                  10     Cassie  2017-07-26     doggo   \n",
       "1                  13                  10     Stuart  2017-07-24     puppo   \n",
       "2                  12                  10     Roscoe  2017-07-15    pupper   \n",
       "3                  12                  10       Yogi  2017-07-09     doggo   \n",
       "4                  13                  10  Grizzwald  2017-07-07   floofer   \n",
       "..                ...                 ...        ...         ...       ...   \n",
       "198                 9                  10      Scott  2015-12-04    pupper   \n",
       "199                12                  10       Jazz  2015-12-03    pupper   \n",
       "200                11                  10       Rolf  2015-12-03    pupper   \n",
       "201                 9                  10       Opal  2015-12-03    pupper   \n",
       "202                 8                  10      Bubba  2015-12-02    pupper   \n",
       "\n",
       "     img_num         dog_breed  p1_dog  \n",
       "0          1          Pembroke    True  \n",
       "1          1  Golden Retriever    True  \n",
       "2          1    French Bulldog    True  \n",
       "3          1   German Shepherd    True  \n",
       "4          1              Chow    True  \n",
       "..       ...               ...     ...  \n",
       "198        1    Great Pyrenees    True  \n",
       "199        1     Border Collie    True  \n",
       "200        1               Pug    True  \n",
       "201        1            Carton   False  \n",
       "202        1               Pug    True  \n",
       "\n",
       "[203 rows x 12 columns]"
      ]
     },
     "execution_count": 63,
     "metadata": {},
     "output_type": "execute_result"
    }
   ],
   "source": [
    "#reset the index of the dataframe and drop the initial index so it doesn't create a new row\n",
    "mastered_df_copy.reset_index(drop=True)"
   ]
  },
  {
   "cell_type": "code",
   "execution_count": 64,
   "id": "dc661ef6",
   "metadata": {},
   "outputs": [
    {
     "data": {
      "text/plain": [
       "True     153\n",
       "False     50\n",
       "Name: p1_dog, dtype: int64"
      ]
     },
     "execution_count": 64,
     "metadata": {},
     "output_type": "execute_result"
    }
   ],
   "source": [
    "mastered_df_copy.p1_dog.value_counts()"
   ]
  },
  {
   "cell_type": "code",
   "execution_count": 65,
   "id": "2f80466d",
   "metadata": {},
   "outputs": [
    {
     "data": {
      "text/plain": [
       "1    167\n",
       "2     19\n",
       "3     11\n",
       "4      6\n",
       "Name: img_num, dtype: int64"
      ]
     },
     "execution_count": 65,
     "metadata": {},
     "output_type": "execute_result"
    }
   ],
   "source": [
    "mastered_df_copy.img_num.value_counts()"
   ]
  },
  {
   "cell_type": "code",
   "execution_count": 66,
   "id": "5b856c28",
   "metadata": {},
   "outputs": [
    {
     "data": {
      "text/plain": [
       "(203, 12)"
      ]
     },
     "execution_count": 66,
     "metadata": {},
     "output_type": "execute_result"
    }
   ],
   "source": [
    "mastered_df_copy.shape"
   ]
  },
  {
   "cell_type": "code",
   "execution_count": 67,
   "id": "f699c913",
   "metadata": {},
   "outputs": [
    {
     "data": {
      "text/plain": [
       "dtype('O')"
      ]
     },
     "execution_count": 67,
     "metadata": {},
     "output_type": "execute_result"
    }
   ],
   "source": [
    "mastered_df_copy.created_at.dtype"
   ]
  },
  {
   "cell_type": "code",
   "execution_count": 68,
   "id": "cdc787f7",
   "metadata": {},
   "outputs": [],
   "source": [
    "# change the created_at column to datetime\n",
    "# mastered_df_copy['created_at'] = pd.to_datetime(mastered_df_copy['created_at'])"
   ]
  },
  {
   "cell_type": "code",
   "execution_count": 69,
   "id": "10b6ee43",
   "metadata": {},
   "outputs": [
    {
     "name": "stdout",
     "output_type": "stream",
     "text": [
      "<class 'pandas.core.frame.DataFrame'>\n",
      "Int64Index: 203 entries, 36 to 6958\n",
      "Data columns (total 12 columns):\n",
      " #   Column              Non-Null Count  Dtype \n",
      "---  ------              --------------  ----- \n",
      " 0   created_at          203 non-null    object\n",
      " 1   tweet_id            203 non-null    int64 \n",
      " 2   retweet_count       203 non-null    int64 \n",
      " 3   favorite_count      203 non-null    int64 \n",
      " 4   rating_numerator    203 non-null    int64 \n",
      " 5   rating_denominator  203 non-null    int64 \n",
      " 6   name                203 non-null    object\n",
      " 7   timestamp           203 non-null    object\n",
      " 8   dog_stage           203 non-null    object\n",
      " 9   img_num             203 non-null    int64 \n",
      " 10  dog_breed           203 non-null    object\n",
      " 11  p1_dog              203 non-null    bool  \n",
      "dtypes: bool(1), int64(6), object(5)\n",
      "memory usage: 19.2+ KB\n"
     ]
    }
   ],
   "source": [
    "mastered_df_copy.info()"
   ]
  },
  {
   "cell_type": "code",
   "execution_count": 70,
   "id": "0d82ad9e",
   "metadata": {},
   "outputs": [],
   "source": [
    "# mastered_df_copy['created_at'] = mastered_df_copy['created_at'].dt.weekday"
   ]
  },
  {
   "cell_type": "code",
   "execution_count": 71,
   "id": "22568d19",
   "metadata": {},
   "outputs": [
    {
     "data": {
      "text/plain": [
       "Golden Retriever      20\n",
       "Pug                    7\n",
       "Labrador Retriever     6\n",
       "Pomeranian             6\n",
       "Pembroke               6\n",
       "                      ..\n",
       "Lhasa                  1\n",
       "Tennis Ball            1\n",
       "Handkerchief           1\n",
       "Alp                    1\n",
       "Carton                 1\n",
       "Name: dog_breed, Length: 104, dtype: int64"
      ]
     },
     "execution_count": 71,
     "metadata": {},
     "output_type": "execute_result"
    }
   ],
   "source": [
    "mastered_df_copy.dog_breed.value_counts()"
   ]
  },
  {
   "cell_type": "code",
   "execution_count": 72,
   "id": "8d86374f",
   "metadata": {},
   "outputs": [
    {
     "data": {
      "text/plain": [
       "pupper     134\n",
       "doggo       48\n",
       "puppo       16\n",
       "floofer      5\n",
       "Name: dog_stage, dtype: int64"
      ]
     },
     "execution_count": 72,
     "metadata": {},
     "output_type": "execute_result"
    }
   ],
   "source": [
    "#check the count of dog_stage column\n",
    "mastered_df_copy.dog_stage.value_counts()"
   ]
  },
  {
   "cell_type": "markdown",
   "id": "a0b38a86",
   "metadata": {},
   "source": [
    "#### Insights\n",
    "1. Most dog rating tweets on the @WeRateDogs page contained only one image\n",
    "2. Pupper is the most popular \"dog stage\" with floofer being the least popular.\n",
    "3. Most dog ratings fell between 10 and 12 with ratings between 3 and 6 being the least."
   ]
  },
  {
   "cell_type": "markdown",
   "id": "e52a3aca",
   "metadata": {},
   "source": [
    "## Visualization"
   ]
  },
  {
   "cell_type": "code",
   "execution_count": 73,
   "id": "f0dc5ffa",
   "metadata": {},
   "outputs": [],
   "source": [
    "#import seaborn\n",
    "import seaborn as sns"
   ]
  },
  {
   "cell_type": "code",
   "execution_count": 74,
   "id": "d2b1a5e6",
   "metadata": {},
   "outputs": [
    {
     "data": {
      "text/plain": [
       "(0.12156862745098039, 0.4666666666666667, 0.7058823529411765)"
      ]
     },
     "execution_count": 74,
     "metadata": {},
     "output_type": "execute_result"
    }
   ],
   "source": [
    "# use only one color for all visualizations\n",
    "base_color = sns.color_palette()[0]\n",
    "base_color"
   ]
  },
  {
   "cell_type": "code",
   "execution_count": 81,
   "id": "11dc2a07",
   "metadata": {},
   "outputs": [
    {
     "data": {
      "image/png": "[encoded data removed]",
      "text/plain": [
       "<Figure size 432x288 with 1 Axes>"
      ]
     },
     "metadata": {
      "needs_background": "light"
     },
     "output_type": "display_data"
    }
   ],
   "source": [
    "# creates a chart for the 1st insight\n",
    "sns.countplot(data=mastered_df_copy, x='img_num', color=base_color).set(title='Count of Image Number');\n",
    "plt.xlabel('Image Number');\n",
    "plt.ylabel('Image Number Count');"
   ]
  },
  {
   "cell_type": "code",
   "execution_count": 85,
   "id": "b566f159",
   "metadata": {},
   "outputs": [
    {
     "data": {
      "image/png": "[encoded data removed]",
      "text/plain": [
       "<Figure size 432x288 with 1 Axes>"
      ]
     },
     "metadata": {
      "needs_background": "light"
     },
     "output_type": "display_data"
    }
   ],
   "source": [
    "# creates a chart for the 2nd insight\n",
    "sns.countplot(data=mastered_df_copy, x='dog_stage', color=base_color).set(title='Count of Dog Stages');\n",
    "plt.xlabel('Dog Stage');\n",
    "plt.ylabel('Count of Dog Stage');"
   ]
  },
  {
   "cell_type": "code",
   "execution_count": 77,
   "id": "15a2a406",
   "metadata": {},
   "outputs": [
    {
     "data": {
      "text/plain": [
       "12    49\n",
       "11    45\n",
       "10    41\n",
       "13    21\n",
       "9     14\n",
       "14    13\n",
       "8     11\n",
       "7      6\n",
       "5      1\n",
       "3      1\n",
       "6      1\n",
       "Name: rating_numerator, dtype: int64"
      ]
     },
     "execution_count": 77,
     "metadata": {},
     "output_type": "execute_result"
    }
   ],
   "source": [
    "#check the counts of the rating numerator.\n",
    "mastered_df_copy.rating_numerator.value_counts()"
   ]
  },
  {
   "cell_type": "code",
   "execution_count": 86,
   "id": "8ce40fad",
   "metadata": {},
   "outputs": [
    {
     "data": {
      "image/png": "[encoded data removed]",
      "text/plain": [
       "<Figure size 432x288 with 1 Axes>"
      ]
     },
     "metadata": {
      "needs_background": "light"
     },
     "output_type": "display_data"
    }
   ],
   "source": [
    "# creates a chart for the 3rd insight\n",
    "sns.countplot(data=mastered_df_copy, x='rating_numerator', color=base_color).set(title='Count of Ratings');\n",
    "plt.xlabel('Ratings');\n",
    "plt.ylabel('Count of Ratings');"
   ]
  },
  {
   "cell_type": "code",
   "execution_count": 79,
   "id": "8385b807",
   "metadata": {},
   "outputs": [],
   "source": [
    "mastered_df_copy.to_csv(r'C:\\Users\\USER\\Desktop\\project 2\\twitter_archive_master_clean.csv', index=False)"
   ]
  }
 ],
 "metadata": {
  "kernelspec": {
   "display_name": "Python 3 (ipykernel)",
   "language": "python",
   "name": "python3"
  },
  "language_info": {
   "codemirror_mode": {
    "name": "ipython",
    "version": 3
   },
   "file_extension": ".py",
   "mimetype": "text/x-python",
   "name": "python",
   "nbconvert_exporter": "python",
   "pygments_lexer": "ipython3",
   "version": "3.9.12"
  }
 },
 "nbformat": 4,
 "nbformat_minor": 5
}
